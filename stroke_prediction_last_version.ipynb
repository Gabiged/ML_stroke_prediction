{
 "cells": [
  {
   "cell_type": "code",
   "execution_count": 1,
   "id": "33ef550e",
   "metadata": {},
   "outputs": [
    {
     "data": {
      "application/javascript": [
       "\n",
       "            setTimeout(function() {\n",
       "                var nbb_cell_id = 1;\n",
       "                var nbb_unformatted_code = \"%load_ext nb_black\";\n",
       "                var nbb_formatted_code = \"%load_ext nb_black\";\n",
       "                var nbb_cells = Jupyter.notebook.get_cells();\n",
       "                for (var i = 0; i < nbb_cells.length; ++i) {\n",
       "                    if (nbb_cells[i].input_prompt_number == nbb_cell_id) {\n",
       "                        if (nbb_cells[i].get_text() == nbb_unformatted_code) {\n",
       "                             nbb_cells[i].set_text(nbb_formatted_code);\n",
       "                        }\n",
       "                        break;\n",
       "                    }\n",
       "                }\n",
       "            }, 500);\n",
       "            "
      ],
      "text/plain": [
       "<IPython.core.display.Javascript object>"
      ]
     },
     "metadata": {},
     "output_type": "display_data"
    }
   ],
   "source": [
    "%load_ext nb_black"
   ]
  },
  {
   "cell_type": "code",
   "execution_count": 2,
   "id": "3abb0757",
   "metadata": {},
   "outputs": [
    {
     "name": "stdout",
     "output_type": "stream",
     "text": [
      "Setup complete\n"
     ]
    },
    {
     "data": {
      "application/javascript": [
       "\n",
       "            setTimeout(function() {\n",
       "                var nbb_cell_id = 2;\n",
       "                var nbb_unformatted_code = \"import matplotlib.pyplot as plt\\nimport numpy as np\\nimport pandas as pd\\n\\nimport scipy.stats as stats\\nfrom scipy.stats import shapiro, mannwhitneyu\\nimport seaborn as sns\\nfrom sklearn.compose import ColumnTransformer\\nfrom sklearn.impute import KNNImputer\\nfrom sklearn.model_selection import train_test_split, GridSearchCV\\nfrom sklearn.pipeline import Pipeline, make_pipeline\\nfrom sklearn.preprocessing import (\\n    OneHotEncoder,\\n    LabelEncoder,\\n    StandardScaler,\\n)\\nfrom sklearn.feature_selection import SelectKBest, chi2, f_regression\\nfrom sklearn.metrics import precision_score, f1_score, accuracy_score\\nfrom sklearn.model_selection import cross_val_score\\nfrom sklearn.linear_model import LogisticRegression\\nfrom sklearn.tree import DecisionTreeClassifier\\nfrom sklearn.metrics import classification_report\\nfrom sklearn.neighbors import KNeighborsClassifier\\nfrom sklearn.svm import SVC\\nfrom xgboost import XGBClassifier\\nfrom sklearn.ensemble import RandomForestClassifier\\nfrom sklearn.ensemble import VotingClassifier\\nimport warnings\\n\\nwarnings.filterwarnings(\\\"ignore\\\")\\nprint(\\\"Setup complete\\\")\";\n",
       "                var nbb_formatted_code = \"import matplotlib.pyplot as plt\\nimport numpy as np\\nimport pandas as pd\\n\\nimport scipy.stats as stats\\nfrom scipy.stats import shapiro, mannwhitneyu\\nimport seaborn as sns\\nfrom sklearn.compose import ColumnTransformer\\nfrom sklearn.impute import KNNImputer\\nfrom sklearn.model_selection import train_test_split, GridSearchCV\\nfrom sklearn.pipeline import Pipeline, make_pipeline\\nfrom sklearn.preprocessing import (\\n    OneHotEncoder,\\n    LabelEncoder,\\n    StandardScaler,\\n)\\nfrom sklearn.feature_selection import SelectKBest, chi2, f_regression\\nfrom sklearn.metrics import precision_score, f1_score, accuracy_score\\nfrom sklearn.model_selection import cross_val_score\\nfrom sklearn.linear_model import LogisticRegression\\nfrom sklearn.tree import DecisionTreeClassifier\\nfrom sklearn.metrics import classification_report\\nfrom sklearn.neighbors import KNeighborsClassifier\\nfrom sklearn.svm import SVC\\nfrom xgboost import XGBClassifier\\nfrom sklearn.ensemble import RandomForestClassifier\\nfrom sklearn.ensemble import VotingClassifier\\nimport warnings\\n\\nwarnings.filterwarnings(\\\"ignore\\\")\\nprint(\\\"Setup complete\\\")\";\n",
       "                var nbb_cells = Jupyter.notebook.get_cells();\n",
       "                for (var i = 0; i < nbb_cells.length; ++i) {\n",
       "                    if (nbb_cells[i].input_prompt_number == nbb_cell_id) {\n",
       "                        if (nbb_cells[i].get_text() == nbb_unformatted_code) {\n",
       "                             nbb_cells[i].set_text(nbb_formatted_code);\n",
       "                        }\n",
       "                        break;\n",
       "                    }\n",
       "                }\n",
       "            }, 500);\n",
       "            "
      ],
      "text/plain": [
       "<IPython.core.display.Javascript object>"
      ]
     },
     "metadata": {},
     "output_type": "display_data"
    }
   ],
   "source": [
    "import matplotlib.pyplot as plt\n",
    "import numpy as np\n",
    "import pandas as pd\n",
    "\n",
    "import scipy.stats as stats\n",
    "from scipy.stats import shapiro, mannwhitneyu\n",
    "import seaborn as sns\n",
    "from sklearn.compose import ColumnTransformer\n",
    "from sklearn.impute import KNNImputer\n",
    "from sklearn.model_selection import train_test_split, GridSearchCV\n",
    "from sklearn.pipeline import Pipeline, make_pipeline\n",
    "from sklearn.preprocessing import (\n",
    "    OneHotEncoder,\n",
    "    LabelEncoder,\n",
    "    StandardScaler,\n",
    ")\n",
    "from sklearn.feature_selection import SelectKBest, chi2, f_regression\n",
    "from sklearn.metrics import precision_score, f1_score, accuracy_score\n",
    "from sklearn.model_selection import cross_val_score\n",
    "from sklearn.linear_model import LogisticRegression\n",
    "from sklearn.tree import DecisionTreeClassifier\n",
    "from sklearn.metrics import classification_report\n",
    "from sklearn.neighbors import KNeighborsClassifier\n",
    "from sklearn.svm import SVC\n",
    "from xgboost import XGBClassifier\n",
    "from sklearn.ensemble import RandomForestClassifier\n",
    "from sklearn.ensemble import VotingClassifier\n",
    "import warnings\n",
    "\n",
    "warnings.filterwarnings(\"ignore\")\n",
    "print(\"Setup complete\")"
   ]
  },
  {
   "cell_type": "markdown",
   "id": "3cfa20e0",
   "metadata": {},
   "source": [
    "#  Stroke Prediction"
   ]
  },
  {
   "cell_type": "markdown",
   "id": "6c8b8519",
   "metadata": {},
   "source": [
    "The task for this work is to analyse the Stroke Prediction dataset. The task is to create a machine learning model, which could predict if the patient is likely to get a stroke - being able to determine which patients have high stroke risk will allow your doctors to advise them and their families on how to act in case of an emergency.  I will apply what I have learned about Machine Learning to complete this task."
   ]
  },
  {
   "cell_type": "markdown",
   "id": "474b4a21",
   "metadata": {},
   "source": [
    "**Objectives for this work:**\n",
    "* Practice working with CSV files.\n",
    "* Practice performing EDA.\n",
    "* Practice applying statistical inference procedures.\n",
    "* Practice using various types of machine learning models.\n",
    "* Practice building ensembles of machine learning models.\n",
    "* Practice deploying machine learning models.\n",
    "* Practice visualizing data with Matplotlib & Seaborn.\n",
    "* Practice reading data, performing queries, and filtering data."
   ]
  },
  {
   "cell_type": "markdown",
   "id": "2590949b",
   "metadata": {},
   "source": [
    "**Requirements**\n",
    "* Perform exploratory data analysis:<br>\n",
    "    - create statistical summaries and charts,\n",
    "    - test for anomalies, \n",
    "    - check for correlations and other relations between variables, and other EDA elements.\n",
    "* Perform statistical inference:<br>\n",
    "    - define the target population,\n",
    "    - form multiple statistical hypotheses and constructing confidence intervals, \n",
    "    - set the significance levels, \n",
    "    - conduct z or t-tests for these hypotheses.\n",
    "* Apply various machine learning models to predict the \"stroke\" column using all other features:<br>\n",
    "    - include hyperparameter tuning, \n",
    "    - include model ensembling,\n",
    "    - include the analysis of model selection, and other methods.\n",
    "    \n",
    "* Deploy the machine learning model (in a container (on your computer or on a server), do a serverless deployment on the cloud, or on the browser as a web app)\n"
   ]
  },
  {
   "cell_type": "markdown",
   "id": "67531117",
   "metadata": {},
   "source": [
    "* Download the given dataset and check the overall information: https://www.kaggle.com/datasets/fedesoriano/stroke-prediction-dataset"
   ]
  },
  {
   "cell_type": "markdown",
   "id": "f64d15f5",
   "metadata": {},
   "source": [
    "**About Data:** \n",
    "This dataset is used to predict whether a patient is likely to get stroke based on the input parameters like gender, age, various diseases, and smoking status. Each row in the data provides relevant information about the patient.\n",
    "\n",
    "* **id** - Unique Identifier\n",
    "* **gender** - \"Male\", \"Female\" or \"Other\"\n",
    "* **age** - Age of the Patient\n",
    "* **hypertension** - 0 if the patient doesn't have hypertension, 1 if the patient has hypertension\n",
    "* **heart_disease** - 0 if the patient doesn't have any heart diseases, 1 if the patient has a heart disease\n",
    "* **ever_married** - \"No\" or \"Yes\"\n",
    "* **work_type** - \"children\", \"Govt_jov\", \"Never_worked\", \"Private\" or \"Self-employed\"\n",
    "* **Residence_type** - \"Rural\" or \"Urban\"\n",
    "* **avg_glucose_level** - average glucose level in blood\n",
    "* **bmi** - body mass index\n",
    "* **smoking_status** - \"formerly smoked\", \"never smoked\", \"smokes\" or \"Unknown\" (the information is unavailable for this patient)\n",
    "* **stroke** - 1 if the patient had a stroke or 0 if not"
   ]
  },
  {
   "cell_type": "code",
   "execution_count": 3,
   "id": "6dd25636",
   "metadata": {},
   "outputs": [
    {
     "data": {
      "text/html": [
       "<div>\n",
       "<style scoped>\n",
       "    .dataframe tbody tr th:only-of-type {\n",
       "        vertical-align: middle;\n",
       "    }\n",
       "\n",
       "    .dataframe tbody tr th {\n",
       "        vertical-align: top;\n",
       "    }\n",
       "\n",
       "    .dataframe thead th {\n",
       "        text-align: right;\n",
       "    }\n",
       "</style>\n",
       "<table border=\"1\" class=\"dataframe\">\n",
       "  <thead>\n",
       "    <tr style=\"text-align: right;\">\n",
       "      <th></th>\n",
       "      <th>id</th>\n",
       "      <th>gender</th>\n",
       "      <th>age</th>\n",
       "      <th>hypertension</th>\n",
       "      <th>heart_disease</th>\n",
       "      <th>ever_married</th>\n",
       "      <th>work_type</th>\n",
       "      <th>Residence_type</th>\n",
       "      <th>avg_glucose_level</th>\n",
       "      <th>bmi</th>\n",
       "      <th>smoking_status</th>\n",
       "      <th>stroke</th>\n",
       "    </tr>\n",
       "  </thead>\n",
       "  <tbody>\n",
       "    <tr>\n",
       "      <th>0</th>\n",
       "      <td>9046</td>\n",
       "      <td>Male</td>\n",
       "      <td>67.0</td>\n",
       "      <td>0</td>\n",
       "      <td>1</td>\n",
       "      <td>Yes</td>\n",
       "      <td>Private</td>\n",
       "      <td>Urban</td>\n",
       "      <td>228.69</td>\n",
       "      <td>36.6</td>\n",
       "      <td>formerly smoked</td>\n",
       "      <td>1</td>\n",
       "    </tr>\n",
       "    <tr>\n",
       "      <th>1</th>\n",
       "      <td>51676</td>\n",
       "      <td>Female</td>\n",
       "      <td>61.0</td>\n",
       "      <td>0</td>\n",
       "      <td>0</td>\n",
       "      <td>Yes</td>\n",
       "      <td>Self-employed</td>\n",
       "      <td>Rural</td>\n",
       "      <td>202.21</td>\n",
       "      <td>NaN</td>\n",
       "      <td>never smoked</td>\n",
       "      <td>1</td>\n",
       "    </tr>\n",
       "    <tr>\n",
       "      <th>2</th>\n",
       "      <td>31112</td>\n",
       "      <td>Male</td>\n",
       "      <td>80.0</td>\n",
       "      <td>0</td>\n",
       "      <td>1</td>\n",
       "      <td>Yes</td>\n",
       "      <td>Private</td>\n",
       "      <td>Rural</td>\n",
       "      <td>105.92</td>\n",
       "      <td>32.5</td>\n",
       "      <td>never smoked</td>\n",
       "      <td>1</td>\n",
       "    </tr>\n",
       "    <tr>\n",
       "      <th>3</th>\n",
       "      <td>60182</td>\n",
       "      <td>Female</td>\n",
       "      <td>49.0</td>\n",
       "      <td>0</td>\n",
       "      <td>0</td>\n",
       "      <td>Yes</td>\n",
       "      <td>Private</td>\n",
       "      <td>Urban</td>\n",
       "      <td>171.23</td>\n",
       "      <td>34.4</td>\n",
       "      <td>smokes</td>\n",
       "      <td>1</td>\n",
       "    </tr>\n",
       "    <tr>\n",
       "      <th>4</th>\n",
       "      <td>1665</td>\n",
       "      <td>Female</td>\n",
       "      <td>79.0</td>\n",
       "      <td>1</td>\n",
       "      <td>0</td>\n",
       "      <td>Yes</td>\n",
       "      <td>Self-employed</td>\n",
       "      <td>Rural</td>\n",
       "      <td>174.12</td>\n",
       "      <td>24.0</td>\n",
       "      <td>never smoked</td>\n",
       "      <td>1</td>\n",
       "    </tr>\n",
       "  </tbody>\n",
       "</table>\n",
       "</div>"
      ],
      "text/plain": [
       "      id  gender   age  hypertension  heart_disease ever_married  \\\n",
       "0   9046    Male  67.0             0              1          Yes   \n",
       "1  51676  Female  61.0             0              0          Yes   \n",
       "2  31112    Male  80.0             0              1          Yes   \n",
       "3  60182  Female  49.0             0              0          Yes   \n",
       "4   1665  Female  79.0             1              0          Yes   \n",
       "\n",
       "       work_type Residence_type  avg_glucose_level   bmi   smoking_status  \\\n",
       "0        Private          Urban             228.69  36.6  formerly smoked   \n",
       "1  Self-employed          Rural             202.21   NaN     never smoked   \n",
       "2        Private          Rural             105.92  32.5     never smoked   \n",
       "3        Private          Urban             171.23  34.4           smokes   \n",
       "4  Self-employed          Rural             174.12  24.0     never smoked   \n",
       "\n",
       "   stroke  \n",
       "0       1  \n",
       "1       1  \n",
       "2       1  \n",
       "3       1  \n",
       "4       1  "
      ]
     },
     "execution_count": 3,
     "metadata": {},
     "output_type": "execute_result"
    },
    {
     "data": {
      "application/javascript": [
       "\n",
       "            setTimeout(function() {\n",
       "                var nbb_cell_id = 3;\n",
       "                var nbb_unformatted_code = \"df = pd.read_csv(\\\"healthcare-dataset-stroke-data.csv\\\")\\ndf.head()\";\n",
       "                var nbb_formatted_code = \"df = pd.read_csv(\\\"healthcare-dataset-stroke-data.csv\\\")\\ndf.head()\";\n",
       "                var nbb_cells = Jupyter.notebook.get_cells();\n",
       "                for (var i = 0; i < nbb_cells.length; ++i) {\n",
       "                    if (nbb_cells[i].input_prompt_number == nbb_cell_id) {\n",
       "                        if (nbb_cells[i].get_text() == nbb_unformatted_code) {\n",
       "                             nbb_cells[i].set_text(nbb_formatted_code);\n",
       "                        }\n",
       "                        break;\n",
       "                    }\n",
       "                }\n",
       "            }, 500);\n",
       "            "
      ],
      "text/plain": [
       "<IPython.core.display.Javascript object>"
      ]
     },
     "metadata": {},
     "output_type": "display_data"
    }
   ],
   "source": [
    "df = pd.read_csv(\"healthcare-dataset-stroke-data.csv\")\n",
    "df.head()"
   ]
  },
  {
   "cell_type": "markdown",
   "id": "ad3213f3",
   "metadata": {},
   "source": [
    "* Dataframe consists of 5110 entries and 12 features(columns):"
   ]
  },
  {
   "cell_type": "code",
   "execution_count": 4,
   "id": "6e93ab91",
   "metadata": {},
   "outputs": [
    {
     "data": {
      "text/plain": [
       "(5110, 12)"
      ]
     },
     "execution_count": 4,
     "metadata": {},
     "output_type": "execute_result"
    },
    {
     "data": {
      "application/javascript": [
       "\n",
       "            setTimeout(function() {\n",
       "                var nbb_cell_id = 4;\n",
       "                var nbb_unformatted_code = \"df.shape\";\n",
       "                var nbb_formatted_code = \"df.shape\";\n",
       "                var nbb_cells = Jupyter.notebook.get_cells();\n",
       "                for (var i = 0; i < nbb_cells.length; ++i) {\n",
       "                    if (nbb_cells[i].input_prompt_number == nbb_cell_id) {\n",
       "                        if (nbb_cells[i].get_text() == nbb_unformatted_code) {\n",
       "                             nbb_cells[i].set_text(nbb_formatted_code);\n",
       "                        }\n",
       "                        break;\n",
       "                    }\n",
       "                }\n",
       "            }, 500);\n",
       "            "
      ],
      "text/plain": [
       "<IPython.core.display.Javascript object>"
      ]
     },
     "metadata": {},
     "output_type": "display_data"
    }
   ],
   "source": [
    "df.shape"
   ]
  },
  {
   "cell_type": "markdown",
   "id": "d16130f1",
   "metadata": {},
   "source": [
    "* There are no duplicated entries in dataframe:"
   ]
  },
  {
   "cell_type": "code",
   "execution_count": 5,
   "id": "cc889e28",
   "metadata": {},
   "outputs": [
    {
     "data": {
      "text/plain": [
       "0"
      ]
     },
     "execution_count": 5,
     "metadata": {},
     "output_type": "execute_result"
    },
    {
     "data": {
      "application/javascript": [
       "\n",
       "            setTimeout(function() {\n",
       "                var nbb_cell_id = 5;\n",
       "                var nbb_unformatted_code = \"df.duplicated().sum()\";\n",
       "                var nbb_formatted_code = \"df.duplicated().sum()\";\n",
       "                var nbb_cells = Jupyter.notebook.get_cells();\n",
       "                for (var i = 0; i < nbb_cells.length; ++i) {\n",
       "                    if (nbb_cells[i].input_prompt_number == nbb_cell_id) {\n",
       "                        if (nbb_cells[i].get_text() == nbb_unformatted_code) {\n",
       "                             nbb_cells[i].set_text(nbb_formatted_code);\n",
       "                        }\n",
       "                        break;\n",
       "                    }\n",
       "                }\n",
       "            }, 500);\n",
       "            "
      ],
      "text/plain": [
       "<IPython.core.display.Javascript object>"
      ]
     },
     "metadata": {},
     "output_type": "display_data"
    }
   ],
   "source": [
    "df.duplicated().sum()"
   ]
  },
  {
   "cell_type": "markdown",
   "id": "7093704e",
   "metadata": {},
   "source": [
    "* Dataset contains 5 not numeric features('gender', 'ever_married', 'work_type', 'Residence_type', 'smoking_status') and 6 numeric features ('age', 'hypertension', 'heart_disease', 'avg_glucose_level', 'bmi', 'stroke'):"
   ]
  },
  {
   "cell_type": "code",
   "execution_count": 6,
   "id": "0cb5c84d",
   "metadata": {
    "scrolled": false
   },
   "outputs": [
    {
     "name": "stdout",
     "output_type": "stream",
     "text": [
      "<class 'pandas.core.frame.DataFrame'>\n",
      "RangeIndex: 5110 entries, 0 to 5109\n",
      "Data columns (total 12 columns):\n",
      " #   Column             Non-Null Count  Dtype  \n",
      "---  ------             --------------  -----  \n",
      " 0   id                 5110 non-null   int64  \n",
      " 1   gender             5110 non-null   object \n",
      " 2   age                5110 non-null   float64\n",
      " 3   hypertension       5110 non-null   int64  \n",
      " 4   heart_disease      5110 non-null   int64  \n",
      " 5   ever_married       5110 non-null   object \n",
      " 6   work_type          5110 non-null   object \n",
      " 7   Residence_type     5110 non-null   object \n",
      " 8   avg_glucose_level  5110 non-null   float64\n",
      " 9   bmi                4909 non-null   float64\n",
      " 10  smoking_status     5110 non-null   object \n",
      " 11  stroke             5110 non-null   int64  \n",
      "dtypes: float64(3), int64(4), object(5)\n",
      "memory usage: 479.2+ KB\n"
     ]
    },
    {
     "data": {
      "application/javascript": [
       "\n",
       "            setTimeout(function() {\n",
       "                var nbb_cell_id = 6;\n",
       "                var nbb_unformatted_code = \"df.info()\";\n",
       "                var nbb_formatted_code = \"df.info()\";\n",
       "                var nbb_cells = Jupyter.notebook.get_cells();\n",
       "                for (var i = 0; i < nbb_cells.length; ++i) {\n",
       "                    if (nbb_cells[i].input_prompt_number == nbb_cell_id) {\n",
       "                        if (nbb_cells[i].get_text() == nbb_unformatted_code) {\n",
       "                             nbb_cells[i].set_text(nbb_formatted_code);\n",
       "                        }\n",
       "                        break;\n",
       "                    }\n",
       "                }\n",
       "            }, 500);\n",
       "            "
      ],
      "text/plain": [
       "<IPython.core.display.Javascript object>"
      ]
     },
     "metadata": {},
     "output_type": "display_data"
    }
   ],
   "source": [
    "df.info()"
   ]
  },
  {
   "cell_type": "markdown",
   "id": "6ba8fe1f",
   "metadata": {},
   "source": [
    "* From overall information we see interesting information to check in 'age', 'avg_glucose_level' and 'bmi' columns. It also shows, that our data is not normally distributed and will be needed to transform for future modeling:"
   ]
  },
  {
   "cell_type": "code",
   "execution_count": 7,
   "id": "d2641a4d",
   "metadata": {},
   "outputs": [
    {
     "data": {
      "text/html": [
       "<div>\n",
       "<style scoped>\n",
       "    .dataframe tbody tr th:only-of-type {\n",
       "        vertical-align: middle;\n",
       "    }\n",
       "\n",
       "    .dataframe tbody tr th {\n",
       "        vertical-align: top;\n",
       "    }\n",
       "\n",
       "    .dataframe thead th {\n",
       "        text-align: right;\n",
       "    }\n",
       "</style>\n",
       "<table border=\"1\" class=\"dataframe\">\n",
       "  <thead>\n",
       "    <tr style=\"text-align: right;\">\n",
       "      <th></th>\n",
       "      <th>id</th>\n",
       "      <th>age</th>\n",
       "      <th>hypertension</th>\n",
       "      <th>heart_disease</th>\n",
       "      <th>avg_glucose_level</th>\n",
       "      <th>bmi</th>\n",
       "      <th>stroke</th>\n",
       "    </tr>\n",
       "  </thead>\n",
       "  <tbody>\n",
       "    <tr>\n",
       "      <th>count</th>\n",
       "      <td>5110.00</td>\n",
       "      <td>5110.00</td>\n",
       "      <td>5110.0</td>\n",
       "      <td>5110.00</td>\n",
       "      <td>5110.00</td>\n",
       "      <td>4909.00</td>\n",
       "      <td>5110.00</td>\n",
       "    </tr>\n",
       "    <tr>\n",
       "      <th>mean</th>\n",
       "      <td>36517.83</td>\n",
       "      <td>43.23</td>\n",
       "      <td>0.1</td>\n",
       "      <td>0.05</td>\n",
       "      <td>106.15</td>\n",
       "      <td>28.89</td>\n",
       "      <td>0.05</td>\n",
       "    </tr>\n",
       "    <tr>\n",
       "      <th>std</th>\n",
       "      <td>21161.72</td>\n",
       "      <td>22.61</td>\n",
       "      <td>0.3</td>\n",
       "      <td>0.23</td>\n",
       "      <td>45.28</td>\n",
       "      <td>7.85</td>\n",
       "      <td>0.22</td>\n",
       "    </tr>\n",
       "    <tr>\n",
       "      <th>min</th>\n",
       "      <td>67.00</td>\n",
       "      <td>0.08</td>\n",
       "      <td>0.0</td>\n",
       "      <td>0.00</td>\n",
       "      <td>55.12</td>\n",
       "      <td>10.30</td>\n",
       "      <td>0.00</td>\n",
       "    </tr>\n",
       "    <tr>\n",
       "      <th>25%</th>\n",
       "      <td>17741.25</td>\n",
       "      <td>25.00</td>\n",
       "      <td>0.0</td>\n",
       "      <td>0.00</td>\n",
       "      <td>77.24</td>\n",
       "      <td>23.50</td>\n",
       "      <td>0.00</td>\n",
       "    </tr>\n",
       "    <tr>\n",
       "      <th>50%</th>\n",
       "      <td>36932.00</td>\n",
       "      <td>45.00</td>\n",
       "      <td>0.0</td>\n",
       "      <td>0.00</td>\n",
       "      <td>91.88</td>\n",
       "      <td>28.10</td>\n",
       "      <td>0.00</td>\n",
       "    </tr>\n",
       "    <tr>\n",
       "      <th>75%</th>\n",
       "      <td>54682.00</td>\n",
       "      <td>61.00</td>\n",
       "      <td>0.0</td>\n",
       "      <td>0.00</td>\n",
       "      <td>114.09</td>\n",
       "      <td>33.10</td>\n",
       "      <td>0.00</td>\n",
       "    </tr>\n",
       "    <tr>\n",
       "      <th>max</th>\n",
       "      <td>72940.00</td>\n",
       "      <td>82.00</td>\n",
       "      <td>1.0</td>\n",
       "      <td>1.00</td>\n",
       "      <td>271.74</td>\n",
       "      <td>97.60</td>\n",
       "      <td>1.00</td>\n",
       "    </tr>\n",
       "  </tbody>\n",
       "</table>\n",
       "</div>"
      ],
      "text/plain": [
       "             id      age  hypertension  heart_disease  avg_glucose_level  \\\n",
       "count   5110.00  5110.00        5110.0        5110.00            5110.00   \n",
       "mean   36517.83    43.23           0.1           0.05             106.15   \n",
       "std    21161.72    22.61           0.3           0.23              45.28   \n",
       "min       67.00     0.08           0.0           0.00              55.12   \n",
       "25%    17741.25    25.00           0.0           0.00              77.24   \n",
       "50%    36932.00    45.00           0.0           0.00              91.88   \n",
       "75%    54682.00    61.00           0.0           0.00             114.09   \n",
       "max    72940.00    82.00           1.0           1.00             271.74   \n",
       "\n",
       "           bmi   stroke  \n",
       "count  4909.00  5110.00  \n",
       "mean     28.89     0.05  \n",
       "std       7.85     0.22  \n",
       "min      10.30     0.00  \n",
       "25%      23.50     0.00  \n",
       "50%      28.10     0.00  \n",
       "75%      33.10     0.00  \n",
       "max      97.60     1.00  "
      ]
     },
     "execution_count": 7,
     "metadata": {},
     "output_type": "execute_result"
    },
    {
     "data": {
      "application/javascript": [
       "\n",
       "            setTimeout(function() {\n",
       "                var nbb_cell_id = 7;\n",
       "                var nbb_unformatted_code = \"round(df.describe(exclude=\\\"object\\\"), 2)\";\n",
       "                var nbb_formatted_code = \"round(df.describe(exclude=\\\"object\\\"), 2)\";\n",
       "                var nbb_cells = Jupyter.notebook.get_cells();\n",
       "                for (var i = 0; i < nbb_cells.length; ++i) {\n",
       "                    if (nbb_cells[i].input_prompt_number == nbb_cell_id) {\n",
       "                        if (nbb_cells[i].get_text() == nbb_unformatted_code) {\n",
       "                             nbb_cells[i].set_text(nbb_formatted_code);\n",
       "                        }\n",
       "                        break;\n",
       "                    }\n",
       "                }\n",
       "            }, 500);\n",
       "            "
      ],
      "text/plain": [
       "<IPython.core.display.Javascript object>"
      ]
     },
     "metadata": {},
     "output_type": "display_data"
    }
   ],
   "source": [
    "round(df.describe(exclude=\"object\"), 2)"
   ]
  },
  {
   "cell_type": "markdown",
   "id": "a6d29ecb",
   "metadata": {},
   "source": [
    "* There are missing values in column 'bmi' 3.93% of total information. We will come to this in the modeling part, but now I will impute missing values using KNNImputer:"
   ]
  },
  {
   "cell_type": "code",
   "execution_count": 8,
   "id": "a3dc9bdb",
   "metadata": {},
   "outputs": [
    {
     "data": {
      "text/plain": [
       "id                   0.00\n",
       "gender               0.00\n",
       "age                  0.00\n",
       "hypertension         0.00\n",
       "heart_disease        0.00\n",
       "ever_married         0.00\n",
       "work_type            0.00\n",
       "Residence_type       0.00\n",
       "avg_glucose_level    0.00\n",
       "bmi                  3.93\n",
       "smoking_status       0.00\n",
       "stroke               0.00\n",
       "dtype: float64"
      ]
     },
     "execution_count": 8,
     "metadata": {},
     "output_type": "execute_result"
    },
    {
     "data": {
      "application/javascript": [
       "\n",
       "            setTimeout(function() {\n",
       "                var nbb_cell_id = 8;\n",
       "                var nbb_unformatted_code = \"round(df.isna().sum() * 100 / len(df), 2)\";\n",
       "                var nbb_formatted_code = \"round(df.isna().sum() * 100 / len(df), 2)\";\n",
       "                var nbb_cells = Jupyter.notebook.get_cells();\n",
       "                for (var i = 0; i < nbb_cells.length; ++i) {\n",
       "                    if (nbb_cells[i].input_prompt_number == nbb_cell_id) {\n",
       "                        if (nbb_cells[i].get_text() == nbb_unformatted_code) {\n",
       "                             nbb_cells[i].set_text(nbb_formatted_code);\n",
       "                        }\n",
       "                        break;\n",
       "                    }\n",
       "                }\n",
       "            }, 500);\n",
       "            "
      ],
      "text/plain": [
       "<IPython.core.display.Javascript object>"
      ]
     },
     "metadata": {},
     "output_type": "display_data"
    }
   ],
   "source": [
    "round(df.isna().sum() * 100 / len(df), 2)"
   ]
  },
  {
   "cell_type": "code",
   "execution_count": 9,
   "id": "fbc53f31",
   "metadata": {},
   "outputs": [
    {
     "data": {
      "text/plain": [
       "0"
      ]
     },
     "execution_count": 9,
     "metadata": {},
     "output_type": "execute_result"
    },
    {
     "data": {
      "application/javascript": [
       "\n",
       "            setTimeout(function() {\n",
       "                var nbb_cell_id = 9;\n",
       "                var nbb_unformatted_code = \"bmi_imputer = KNNImputer(n_neighbors=5)\\ndf[\\\"bmi\\\"] = bmi_imputer.fit_transform(df[[\\\"bmi\\\"]])\\ndf[\\\"bmi\\\"].isna().sum()\";\n",
       "                var nbb_formatted_code = \"bmi_imputer = KNNImputer(n_neighbors=5)\\ndf[\\\"bmi\\\"] = bmi_imputer.fit_transform(df[[\\\"bmi\\\"]])\\ndf[\\\"bmi\\\"].isna().sum()\";\n",
       "                var nbb_cells = Jupyter.notebook.get_cells();\n",
       "                for (var i = 0; i < nbb_cells.length; ++i) {\n",
       "                    if (nbb_cells[i].input_prompt_number == nbb_cell_id) {\n",
       "                        if (nbb_cells[i].get_text() == nbb_unformatted_code) {\n",
       "                             nbb_cells[i].set_text(nbb_formatted_code);\n",
       "                        }\n",
       "                        break;\n",
       "                    }\n",
       "                }\n",
       "            }, 500);\n",
       "            "
      ],
      "text/plain": [
       "<IPython.core.display.Javascript object>"
      ]
     },
     "metadata": {},
     "output_type": "display_data"
    }
   ],
   "source": [
    "bmi_imputer = KNNImputer(n_neighbors=5)\n",
    "df[\"bmi\"] = bmi_imputer.fit_transform(df[[\"bmi\"]])\n",
    "df[\"bmi\"].isna().sum()"
   ]
  },
  {
   "cell_type": "markdown",
   "id": "1d3f7cca",
   "metadata": {},
   "source": [
    "To detect outliers we plot certain numeric features:'age', 'avg_glucose_level', 'bmi'. From plot bellow we see the age is very widle spread, there are outliers in glucose levels and bmi:"
   ]
  },
  {
   "cell_type": "code",
   "execution_count": 10,
   "id": "3f8547e6",
   "metadata": {
    "scrolled": false
   },
   "outputs": [
    {
     "data": {
      "image/png": "[encoded data removed]",
      "text/plain": [
       "<Figure size 1500x600 with 3 Axes>"
      ]
     },
     "metadata": {},
     "output_type": "display_data"
    },
    {
     "data": {
      "application/javascript": [
       "\n",
       "            setTimeout(function() {\n",
       "                var nbb_cell_id = 10;\n",
       "                var nbb_unformatted_code = \"features = [\\\"age\\\", \\\"avg_glucose_level\\\", \\\"bmi\\\"]\\nfig, axes = plt.subplots(1, len(features), figsize=(15, 6))\\nfor i, feature in enumerate(features):\\n    df.boxplot(column=feature, ax=axes[i])\\n    axes[i].set_title(f\\\"Box Plot for {feature}\\\")\\n    axes[i].set_ylabel(\\\"Values\\\")\\nfig.suptitle(\\\"Box Plots for Numeric Features\\\", fontsize=16)\\nplt.tight_layout()\\nplt.show()\";\n",
       "                var nbb_formatted_code = \"features = [\\\"age\\\", \\\"avg_glucose_level\\\", \\\"bmi\\\"]\\nfig, axes = plt.subplots(1, len(features), figsize=(15, 6))\\nfor i, feature in enumerate(features):\\n    df.boxplot(column=feature, ax=axes[i])\\n    axes[i].set_title(f\\\"Box Plot for {feature}\\\")\\n    axes[i].set_ylabel(\\\"Values\\\")\\nfig.suptitle(\\\"Box Plots for Numeric Features\\\", fontsize=16)\\nplt.tight_layout()\\nplt.show()\";\n",
       "                var nbb_cells = Jupyter.notebook.get_cells();\n",
       "                for (var i = 0; i < nbb_cells.length; ++i) {\n",
       "                    if (nbb_cells[i].input_prompt_number == nbb_cell_id) {\n",
       "                        if (nbb_cells[i].get_text() == nbb_unformatted_code) {\n",
       "                             nbb_cells[i].set_text(nbb_formatted_code);\n",
       "                        }\n",
       "                        break;\n",
       "                    }\n",
       "                }\n",
       "            }, 500);\n",
       "            "
      ],
      "text/plain": [
       "<IPython.core.display.Javascript object>"
      ]
     },
     "metadata": {},
     "output_type": "display_data"
    }
   ],
   "source": [
    "features = [\"age\", \"avg_glucose_level\", \"bmi\"]\n",
    "fig, axes = plt.subplots(1, len(features), figsize=(15, 6))\n",
    "for i, feature in enumerate(features):\n",
    "    df.boxplot(column=feature, ax=axes[i])\n",
    "    axes[i].set_title(f\"Box Plot for {feature}\")\n",
    "    axes[i].set_ylabel(\"Values\")\n",
    "fig.suptitle(\"Box Plots for Numeric Features\", fontsize=16)\n",
    "plt.tight_layout()\n",
    "plt.show()"
   ]
  },
  {
   "cell_type": "code",
   "execution_count": 11,
   "id": "4478a43e",
   "metadata": {},
   "outputs": [
    {
     "data": {
      "text/html": [
       "<div>\n",
       "<style scoped>\n",
       "    .dataframe tbody tr th:only-of-type {\n",
       "        vertical-align: middle;\n",
       "    }\n",
       "\n",
       "    .dataframe tbody tr th {\n",
       "        vertical-align: top;\n",
       "    }\n",
       "\n",
       "    .dataframe thead th {\n",
       "        text-align: right;\n",
       "    }\n",
       "</style>\n",
       "<table border=\"1\" class=\"dataframe\">\n",
       "  <thead>\n",
       "    <tr style=\"text-align: right;\">\n",
       "      <th></th>\n",
       "      <th>id</th>\n",
       "      <th>gender</th>\n",
       "      <th>age</th>\n",
       "      <th>hypertension</th>\n",
       "      <th>heart_disease</th>\n",
       "      <th>ever_married</th>\n",
       "      <th>work_type</th>\n",
       "      <th>Residence_type</th>\n",
       "      <th>avg_glucose_level</th>\n",
       "      <th>bmi</th>\n",
       "      <th>smoking_status</th>\n",
       "      <th>stroke</th>\n",
       "    </tr>\n",
       "  </thead>\n",
       "  <tbody>\n",
       "    <tr>\n",
       "      <th>0</th>\n",
       "      <td>9046</td>\n",
       "      <td>Male</td>\n",
       "      <td>67.0</td>\n",
       "      <td>0</td>\n",
       "      <td>1</td>\n",
       "      <td>Yes</td>\n",
       "      <td>Private</td>\n",
       "      <td>Urban</td>\n",
       "      <td>228.69</td>\n",
       "      <td>36.600000</td>\n",
       "      <td>formerly smoked</td>\n",
       "      <td>1</td>\n",
       "    </tr>\n",
       "    <tr>\n",
       "      <th>1</th>\n",
       "      <td>51676</td>\n",
       "      <td>Female</td>\n",
       "      <td>61.0</td>\n",
       "      <td>0</td>\n",
       "      <td>0</td>\n",
       "      <td>Yes</td>\n",
       "      <td>Self-employed</td>\n",
       "      <td>Rural</td>\n",
       "      <td>202.21</td>\n",
       "      <td>28.893237</td>\n",
       "      <td>never smoked</td>\n",
       "      <td>1</td>\n",
       "    </tr>\n",
       "    <tr>\n",
       "      <th>2</th>\n",
       "      <td>31112</td>\n",
       "      <td>Male</td>\n",
       "      <td>80.0</td>\n",
       "      <td>0</td>\n",
       "      <td>1</td>\n",
       "      <td>Yes</td>\n",
       "      <td>Private</td>\n",
       "      <td>Rural</td>\n",
       "      <td>105.92</td>\n",
       "      <td>32.500000</td>\n",
       "      <td>never smoked</td>\n",
       "      <td>1</td>\n",
       "    </tr>\n",
       "    <tr>\n",
       "      <th>3</th>\n",
       "      <td>60182</td>\n",
       "      <td>Female</td>\n",
       "      <td>49.0</td>\n",
       "      <td>0</td>\n",
       "      <td>0</td>\n",
       "      <td>Yes</td>\n",
       "      <td>Private</td>\n",
       "      <td>Urban</td>\n",
       "      <td>171.23</td>\n",
       "      <td>34.400000</td>\n",
       "      <td>smokes</td>\n",
       "      <td>1</td>\n",
       "    </tr>\n",
       "    <tr>\n",
       "      <th>4</th>\n",
       "      <td>1665</td>\n",
       "      <td>Female</td>\n",
       "      <td>79.0</td>\n",
       "      <td>1</td>\n",
       "      <td>0</td>\n",
       "      <td>Yes</td>\n",
       "      <td>Self-employed</td>\n",
       "      <td>Rural</td>\n",
       "      <td>174.12</td>\n",
       "      <td>24.000000</td>\n",
       "      <td>never smoked</td>\n",
       "      <td>1</td>\n",
       "    </tr>\n",
       "  </tbody>\n",
       "</table>\n",
       "</div>"
      ],
      "text/plain": [
       "      id  gender   age  hypertension  heart_disease ever_married  \\\n",
       "0   9046    Male  67.0             0              1          Yes   \n",
       "1  51676  Female  61.0             0              0          Yes   \n",
       "2  31112    Male  80.0             0              1          Yes   \n",
       "3  60182  Female  49.0             0              0          Yes   \n",
       "4   1665  Female  79.0             1              0          Yes   \n",
       "\n",
       "       work_type Residence_type  avg_glucose_level        bmi  \\\n",
       "0        Private          Urban             228.69  36.600000   \n",
       "1  Self-employed          Rural             202.21  28.893237   \n",
       "2        Private          Rural             105.92  32.500000   \n",
       "3        Private          Urban             171.23  34.400000   \n",
       "4  Self-employed          Rural             174.12  24.000000   \n",
       "\n",
       "    smoking_status  stroke  \n",
       "0  formerly smoked       1  \n",
       "1     never smoked       1  \n",
       "2     never smoked       1  \n",
       "3           smokes       1  \n",
       "4     never smoked       1  "
      ]
     },
     "execution_count": 11,
     "metadata": {},
     "output_type": "execute_result"
    },
    {
     "data": {
      "application/javascript": [
       "\n",
       "            setTimeout(function() {\n",
       "                var nbb_cell_id = 11;\n",
       "                var nbb_unformatted_code = \"df.head()\";\n",
       "                var nbb_formatted_code = \"df.head()\";\n",
       "                var nbb_cells = Jupyter.notebook.get_cells();\n",
       "                for (var i = 0; i < nbb_cells.length; ++i) {\n",
       "                    if (nbb_cells[i].input_prompt_number == nbb_cell_id) {\n",
       "                        if (nbb_cells[i].get_text() == nbb_unformatted_code) {\n",
       "                             nbb_cells[i].set_text(nbb_formatted_code);\n",
       "                        }\n",
       "                        break;\n",
       "                    }\n",
       "                }\n",
       "            }, 500);\n",
       "            "
      ],
      "text/plain": [
       "<IPython.core.display.Javascript object>"
      ]
     },
     "metadata": {},
     "output_type": "display_data"
    }
   ],
   "source": [
    "df.head()"
   ]
  },
  {
   "cell_type": "markdown",
   "id": "86382dc0",
   "metadata": {},
   "source": [
    "* Checking relations between features with respect to 'stroke' feature. It shows that correaltions are very weak if we consider that -1 is a strong negative correlation, 0 means no correlation and +1 is strong correlation:"
   ]
  },
  {
   "cell_type": "code",
   "execution_count": 43,
   "id": "814a8f10",
   "metadata": {},
   "outputs": [
    {
     "name": "stdout",
     "output_type": "stream",
     "text": [
      "stroke               1.000000\n",
      "age                  0.245239\n",
      "heart_disease        0.134905\n",
      "avg_glucose_level    0.131991\n",
      "hypertension         0.127891\n",
      "bmi                  0.038912\n",
      "id                   0.006430\n",
      "Name: stroke, dtype: float64\n"
     ]
    },
    {
     "data": {
      "text/plain": [
       "<AxesSubplot: >"
      ]
     },
     "execution_count": 43,
     "metadata": {},
     "output_type": "execute_result"
    },
    {
     "data": {
      "image/png": "[encoded data removed]",
      "text/plain": [
       "<Figure size 800x600 with 2 Axes>"
      ]
     },
     "metadata": {},
     "output_type": "display_data"
    },
    {
     "data": {
      "application/javascript": [
       "\n",
       "            setTimeout(function() {\n",
       "                var nbb_cell_id = 43;\n",
       "                var nbb_unformatted_code = \"correlations = df.corr(numeric_only=True)[\\\"stroke\\\"].sort_values(ascending=False)\\nprint(correlations)\\nfig, ax = plt.subplots(figsize=(8, 6))\\nsns.heatmap(df.corr(numeric_only=True), annot=True, fmt=\\\".2g\\\", cmap=\\\"RdYlBu\\\", cbar=True)\";\n",
       "                var nbb_formatted_code = \"correlations = df.corr(numeric_only=True)[\\\"stroke\\\"].sort_values(ascending=False)\\nprint(correlations)\\nfig, ax = plt.subplots(figsize=(8, 6))\\nsns.heatmap(df.corr(numeric_only=True), annot=True, fmt=\\\".2g\\\", cmap=\\\"RdYlBu\\\", cbar=True)\";\n",
       "                var nbb_cells = Jupyter.notebook.get_cells();\n",
       "                for (var i = 0; i < nbb_cells.length; ++i) {\n",
       "                    if (nbb_cells[i].input_prompt_number == nbb_cell_id) {\n",
       "                        if (nbb_cells[i].get_text() == nbb_unformatted_code) {\n",
       "                             nbb_cells[i].set_text(nbb_formatted_code);\n",
       "                        }\n",
       "                        break;\n",
       "                    }\n",
       "                }\n",
       "            }, 500);\n",
       "            "
      ],
      "text/plain": [
       "<IPython.core.display.Javascript object>"
      ]
     },
     "metadata": {},
     "output_type": "display_data"
    }
   ],
   "source": [
    "correlations = df.corr(numeric_only=True)[\"stroke\"].sort_values(ascending=False)\n",
    "print(correlations)\n",
    "fig, ax = plt.subplots(figsize=(8, 6))\n",
    "sns.heatmap(df.corr(numeric_only=True), annot=True, fmt=\".2g\", cmap=\"RdYlBu\", cbar=True)"
   ]
  },
  {
   "cell_type": "markdown",
   "id": "120b1c37",
   "metadata": {},
   "source": [
    "### What is the age scale in dataset?\n"
   ]
  },
  {
   "cell_type": "code",
   "execution_count": 13,
   "id": "34407fa3",
   "metadata": {},
   "outputs": [
    {
     "name": "stdout",
     "output_type": "stream",
     "text": [
      "The age range in dataset:  0.08 - 82.0 years\n"
     ]
    },
    {
     "data": {
      "image/png": "[encoded data removed]",
      "text/plain": [
       "<Figure size 640x480 with 1 Axes>"
      ]
     },
     "metadata": {},
     "output_type": "display_data"
    },
    {
     "data": {
      "application/javascript": [
       "\n",
       "            setTimeout(function() {\n",
       "                var nbb_cell_id = 13;\n",
       "                var nbb_unformatted_code = \"age_bins = [0, 20, 30, 40, 50, 60, 70, 90]\\nage_labels = [\\\"0-20\\\", \\\"21-30\\\", \\\"31-40\\\", \\\"41-50\\\", \\\"51-60\\\", \\\"61-70\\\", \\\"71-90\\\"]\\nprint(\\\"The age range in dataset: \\\", df.age.min(), \\\"-\\\", df.age.max(), \\\"years\\\")\\nage_hist, _ = np.histogram(df[\\\"age\\\"], bins=age_bins)\\n\\n# Create a pie chart\\nfig, ax = plt.subplots()\\nax.pie(age_hist, labels=age_labels, autopct=\\\"%1.1f%%\\\")\\nplt.title(\\\"Age Distribution, %\\\")\\nplt.show()\";\n",
       "                var nbb_formatted_code = \"age_bins = [0, 20, 30, 40, 50, 60, 70, 90]\\nage_labels = [\\\"0-20\\\", \\\"21-30\\\", \\\"31-40\\\", \\\"41-50\\\", \\\"51-60\\\", \\\"61-70\\\", \\\"71-90\\\"]\\nprint(\\\"The age range in dataset: \\\", df.age.min(), \\\"-\\\", df.age.max(), \\\"years\\\")\\nage_hist, _ = np.histogram(df[\\\"age\\\"], bins=age_bins)\\n\\n# Create a pie chart\\nfig, ax = plt.subplots()\\nax.pie(age_hist, labels=age_labels, autopct=\\\"%1.1f%%\\\")\\nplt.title(\\\"Age Distribution, %\\\")\\nplt.show()\";\n",
       "                var nbb_cells = Jupyter.notebook.get_cells();\n",
       "                for (var i = 0; i < nbb_cells.length; ++i) {\n",
       "                    if (nbb_cells[i].input_prompt_number == nbb_cell_id) {\n",
       "                        if (nbb_cells[i].get_text() == nbb_unformatted_code) {\n",
       "                             nbb_cells[i].set_text(nbb_formatted_code);\n",
       "                        }\n",
       "                        break;\n",
       "                    }\n",
       "                }\n",
       "            }, 500);\n",
       "            "
      ],
      "text/plain": [
       "<IPython.core.display.Javascript object>"
      ]
     },
     "metadata": {},
     "output_type": "display_data"
    }
   ],
   "source": [
    "age_bins = [0, 20, 30, 40, 50, 60, 70, 90]\n",
    "age_labels = [\"0-20\", \"21-30\", \"31-40\", \"41-50\", \"51-60\", \"61-70\", \"71-90\"]\n",
    "print(\"The age range in dataset: \", df.age.min(), \"-\", df.age.max(), \"years\")\n",
    "age_hist, _ = np.histogram(df[\"age\"], bins=age_bins)\n",
    "\n",
    "# Create a pie chart\n",
    "fig, ax = plt.subplots()\n",
    "ax.pie(age_hist, labels=age_labels, autopct=\"%1.1f%%\")\n",
    "plt.title(\"Age Distribution, %\")\n",
    "plt.show()"
   ]
  },
  {
   "cell_type": "code",
   "execution_count": 14,
   "id": "3544ea2e",
   "metadata": {},
   "outputs": [
    {
     "data": {
      "application/javascript": [
       "\n",
       "            setTimeout(function() {\n",
       "                var nbb_cell_id = 14;\n",
       "                var nbb_unformatted_code = \"stroke_yes = df[df[\\\"stroke\\\"] == 1]\\nstroke_no = df[df[\\\"stroke\\\"] == 0]\";\n",
       "                var nbb_formatted_code = \"stroke_yes = df[df[\\\"stroke\\\"] == 1]\\nstroke_no = df[df[\\\"stroke\\\"] == 0]\";\n",
       "                var nbb_cells = Jupyter.notebook.get_cells();\n",
       "                for (var i = 0; i < nbb_cells.length; ++i) {\n",
       "                    if (nbb_cells[i].input_prompt_number == nbb_cell_id) {\n",
       "                        if (nbb_cells[i].get_text() == nbb_unformatted_code) {\n",
       "                             nbb_cells[i].set_text(nbb_formatted_code);\n",
       "                        }\n",
       "                        break;\n",
       "                    }\n",
       "                }\n",
       "            }, 500);\n",
       "            "
      ],
      "text/plain": [
       "<IPython.core.display.Javascript object>"
      ]
     },
     "metadata": {},
     "output_type": "display_data"
    }
   ],
   "source": [
    "stroke_yes = df[df[\"stroke\"] == 1]\n",
    "stroke_no = df[df[\"stroke\"] == 0]"
   ]
  },
  {
   "cell_type": "markdown",
   "id": "0730def3",
   "metadata": {},
   "source": [
    "### What is age distribution in relation with stroke feature?"
   ]
  },
  {
   "cell_type": "markdown",
   "id": "1adc79ec",
   "metadata": {},
   "source": [
    "* In relation to stroke possibility, the biggest risk are people age from 71 to 90. But in general risk rises from 51 (19.3% were diagnosed positively):"
   ]
  },
  {
   "cell_type": "code",
   "execution_count": 15,
   "id": "1eecea3b",
   "metadata": {
    "scrolled": false
   },
   "outputs": [
    {
     "data": {
      "image/png": "[encoded data removed]",
      "text/plain": [
       "<Figure size 1200x600 with 1 Axes>"
      ]
     },
     "metadata": {},
     "output_type": "display_data"
    },
    {
     "data": {
      "application/javascript": [
       "\n",
       "            setTimeout(function() {\n",
       "                var nbb_cell_id = 15;\n",
       "                var nbb_unformatted_code = \"stroke_yes[\\\"age_bins\\\"] = pd.cut(\\n    stroke_yes[\\\"age\\\"], bins=age_bins, labels=age_labels, right=False\\n)\\nstroke_no[\\\"age_bins\\\"] = pd.cut(\\n    stroke_no[\\\"age\\\"], bins=age_bins, labels=age_labels, right=False\\n)\\n\\nage_by_stroke_counts = stroke_yes[\\\"age_bins\\\"].value_counts().sort_index()\\nage_by_no_stroke_counts = stroke_no[\\\"age_bins\\\"].value_counts().sort_index()\\nage_counts_df = pd.DataFrame(\\n    {\\n        \\\"stroke_yes\\\": age_by_stroke_counts,\\n        \\\"stroke_no\\\": age_by_no_stroke_counts,\\n    }\\n)\\nage_counts_df[\\\"stroke_yes\\\"] = round(\\n    age_counts_df[\\\"stroke_yes\\\"] * 100 / age_counts_df[\\\"stroke_yes\\\"].sum(), 2\\n)\\nage_counts_df[\\\"stroke_no\\\"] = round(\\n    age_counts_df[\\\"stroke_no\\\"] * 100 / age_counts_df[\\\"stroke_no\\\"].sum(), 2\\n)\\n\\n# Create and display the bar chart\\nfig, ax = plt.subplots(figsize=(12, 6))\\nage_counts_df.plot(kind=\\\"bar\\\", ax=ax)\\nfor i in ax.patches:\\n    ax.annotate(\\n        f\\\"{i.get_height():.1f}%\\\",\\n        (i.get_x() + i.get_width() / 2, i.get_height()),\\n        textcoords=\\\"offset points\\\",\\n        xytext=(0, 2),\\n        size=7,\\n        ha=\\\"center\\\",\\n    )\\nax.set_title(\\\"Patients Age in Relation to Stroke Possibility\\\")\\nax.set_xlabel(\\\"Age\\\")\\nplt.xticks(rotation=0)\\nax.set_ylabel(\\\"Patients Quantity\\\")\\nplt.legend(title=\\\"Stroke Status\\\", loc=\\\"upper left\\\")\\nplt.show()\";\n",
       "                var nbb_formatted_code = \"stroke_yes[\\\"age_bins\\\"] = pd.cut(\\n    stroke_yes[\\\"age\\\"], bins=age_bins, labels=age_labels, right=False\\n)\\nstroke_no[\\\"age_bins\\\"] = pd.cut(\\n    stroke_no[\\\"age\\\"], bins=age_bins, labels=age_labels, right=False\\n)\\n\\nage_by_stroke_counts = stroke_yes[\\\"age_bins\\\"].value_counts().sort_index()\\nage_by_no_stroke_counts = stroke_no[\\\"age_bins\\\"].value_counts().sort_index()\\nage_counts_df = pd.DataFrame(\\n    {\\n        \\\"stroke_yes\\\": age_by_stroke_counts,\\n        \\\"stroke_no\\\": age_by_no_stroke_counts,\\n    }\\n)\\nage_counts_df[\\\"stroke_yes\\\"] = round(\\n    age_counts_df[\\\"stroke_yes\\\"] * 100 / age_counts_df[\\\"stroke_yes\\\"].sum(), 2\\n)\\nage_counts_df[\\\"stroke_no\\\"] = round(\\n    age_counts_df[\\\"stroke_no\\\"] * 100 / age_counts_df[\\\"stroke_no\\\"].sum(), 2\\n)\\n\\n# Create and display the bar chart\\nfig, ax = plt.subplots(figsize=(12, 6))\\nage_counts_df.plot(kind=\\\"bar\\\", ax=ax)\\nfor i in ax.patches:\\n    ax.annotate(\\n        f\\\"{i.get_height():.1f}%\\\",\\n        (i.get_x() + i.get_width() / 2, i.get_height()),\\n        textcoords=\\\"offset points\\\",\\n        xytext=(0, 2),\\n        size=7,\\n        ha=\\\"center\\\",\\n    )\\nax.set_title(\\\"Patients Age in Relation to Stroke Possibility\\\")\\nax.set_xlabel(\\\"Age\\\")\\nplt.xticks(rotation=0)\\nax.set_ylabel(\\\"Patients Quantity\\\")\\nplt.legend(title=\\\"Stroke Status\\\", loc=\\\"upper left\\\")\\nplt.show()\";\n",
       "                var nbb_cells = Jupyter.notebook.get_cells();\n",
       "                for (var i = 0; i < nbb_cells.length; ++i) {\n",
       "                    if (nbb_cells[i].input_prompt_number == nbb_cell_id) {\n",
       "                        if (nbb_cells[i].get_text() == nbb_unformatted_code) {\n",
       "                             nbb_cells[i].set_text(nbb_formatted_code);\n",
       "                        }\n",
       "                        break;\n",
       "                    }\n",
       "                }\n",
       "            }, 500);\n",
       "            "
      ],
      "text/plain": [
       "<IPython.core.display.Javascript object>"
      ]
     },
     "metadata": {},
     "output_type": "display_data"
    }
   ],
   "source": [
    "stroke_yes[\"age_bins\"] = pd.cut(\n",
    "    stroke_yes[\"age\"], bins=age_bins, labels=age_labels, right=False\n",
    ")\n",
    "stroke_no[\"age_bins\"] = pd.cut(\n",
    "    stroke_no[\"age\"], bins=age_bins, labels=age_labels, right=False\n",
    ")\n",
    "\n",
    "age_by_stroke_counts = stroke_yes[\"age_bins\"].value_counts().sort_index()\n",
    "age_by_no_stroke_counts = stroke_no[\"age_bins\"].value_counts().sort_index()\n",
    "age_counts_df = pd.DataFrame(\n",
    "    {\n",
    "        \"stroke_yes\": age_by_stroke_counts,\n",
    "        \"stroke_no\": age_by_no_stroke_counts,\n",
    "    }\n",
    ")\n",
    "age_counts_df[\"stroke_yes\"] = round(\n",
    "    age_counts_df[\"stroke_yes\"] * 100 / age_counts_df[\"stroke_yes\"].sum(), 2\n",
    ")\n",
    "age_counts_df[\"stroke_no\"] = round(\n",
    "    age_counts_df[\"stroke_no\"] * 100 / age_counts_df[\"stroke_no\"].sum(), 2\n",
    ")\n",
    "\n",
    "# Create and display the bar chart\n",
    "fig, ax = plt.subplots(figsize=(12, 6))\n",
    "age_counts_df.plot(kind=\"bar\", ax=ax)\n",
    "for i in ax.patches:\n",
    "    ax.annotate(\n",
    "        f\"{i.get_height():.1f}%\",\n",
    "        (i.get_x() + i.get_width() / 2, i.get_height()),\n",
    "        textcoords=\"offset points\",\n",
    "        xytext=(0, 2),\n",
    "        size=7,\n",
    "        ha=\"center\",\n",
    "    )\n",
    "ax.set_title(\"Patients Age in Relation to Stroke Possibility\")\n",
    "ax.set_xlabel(\"Age\")\n",
    "plt.xticks(rotation=0)\n",
    "ax.set_ylabel(\"Patients Quantity\")\n",
    "plt.legend(title=\"Stroke Status\", loc=\"upper left\")\n",
    "plt.show()"
   ]
  },
  {
   "cell_type": "markdown",
   "id": "bd80027d",
   "metadata": {},
   "source": [
    "### Which gender is more likely to have a stroke?"
   ]
  },
  {
   "cell_type": "markdown",
   "id": "e4cfb025",
   "metadata": {},
   "source": [
    "* The plot shows that women are more likely to have a stroke (~57%):"
   ]
  },
  {
   "cell_type": "code",
   "execution_count": 16,
   "id": "7e55443b",
   "metadata": {},
   "outputs": [
    {
     "name": "stdout",
     "output_type": "stream",
     "text": [
      "Female patients in total:  2994\n",
      "Male patients in total:  2115\n"
     ]
    },
    {
     "data": {
      "image/png": "[encoded data removed]",
      "text/plain": [
       "<Figure size 1200x600 with 1 Axes>"
      ]
     },
     "metadata": {},
     "output_type": "display_data"
    },
    {
     "data": {
      "application/javascript": [
       "\n",
       "            setTimeout(function() {\n",
       "                var nbb_cell_id = 16;\n",
       "                var nbb_unformatted_code = \"print(\\n    \\\"Female patients in total: \\\",\\n    df[\\\"gender\\\"].value_counts()[0],\\n)\\nprint(\\n    \\\"Male patients in total: \\\",\\n    df[\\\"gender\\\"].value_counts()[1],\\n)\\ngender_by_stroke_counts = stroke_yes[\\\"gender\\\"].value_counts()\\ngender_by_no_stroke_counts = stroke_no[\\\"gender\\\"].value_counts()\\ngender_counts_df = pd.DataFrame(\\n    {\\n        \\\"stroke_yes\\\": gender_by_stroke_counts,\\n        \\\"stroke_no\\\": gender_by_no_stroke_counts,\\n    }\\n)\\ngender_counts_df.sort_index(inplace=True)\\ngender_counts_df[\\\"stroke_yes\\\"] = round(\\n    gender_counts_df[\\\"stroke_yes\\\"] * 100 / gender_counts_df[\\\"stroke_yes\\\"].sum(), 2\\n)\\ngender_counts_df[\\\"stroke_no\\\"] = round(\\n    gender_counts_df[\\\"stroke_no\\\"] * 100 / gender_counts_df[\\\"stroke_no\\\"].sum(), 2\\n)\\nfig, ax = plt.subplots(figsize=(12, 6))\\ngender_counts_df.iloc[:2, :].plot(kind=\\\"bar\\\", ax=ax)\\nfor i in ax.patches:\\n    ax.annotate(\\n        f\\\"{i.get_height():.1f}%\\\",\\n        (i.get_x() + i.get_width() / 2, i.get_height()),\\n        textcoords=\\\"offset points\\\",\\n        xytext=(0, 2),\\n        size=7,\\n        ha=\\\"center\\\",\\n    )\\nax.set_title(\\\"Patients Gender in Relation to Stroke Possibility\\\")\\nax.set_xlabel(\\\"Gender\\\")\\nplt.xticks(rotation=0)\\nax.set_ylabel(\\\"Patients Quantity\\\")\\nplt.legend(title=\\\"Stroke Status\\\", loc=\\\"upper right\\\")\\nplt.show()\";\n",
       "                var nbb_formatted_code = \"print(\\n    \\\"Female patients in total: \\\",\\n    df[\\\"gender\\\"].value_counts()[0],\\n)\\nprint(\\n    \\\"Male patients in total: \\\",\\n    df[\\\"gender\\\"].value_counts()[1],\\n)\\ngender_by_stroke_counts = stroke_yes[\\\"gender\\\"].value_counts()\\ngender_by_no_stroke_counts = stroke_no[\\\"gender\\\"].value_counts()\\ngender_counts_df = pd.DataFrame(\\n    {\\n        \\\"stroke_yes\\\": gender_by_stroke_counts,\\n        \\\"stroke_no\\\": gender_by_no_stroke_counts,\\n    }\\n)\\ngender_counts_df.sort_index(inplace=True)\\ngender_counts_df[\\\"stroke_yes\\\"] = round(\\n    gender_counts_df[\\\"stroke_yes\\\"] * 100 / gender_counts_df[\\\"stroke_yes\\\"].sum(), 2\\n)\\ngender_counts_df[\\\"stroke_no\\\"] = round(\\n    gender_counts_df[\\\"stroke_no\\\"] * 100 / gender_counts_df[\\\"stroke_no\\\"].sum(), 2\\n)\\nfig, ax = plt.subplots(figsize=(12, 6))\\ngender_counts_df.iloc[:2, :].plot(kind=\\\"bar\\\", ax=ax)\\nfor i in ax.patches:\\n    ax.annotate(\\n        f\\\"{i.get_height():.1f}%\\\",\\n        (i.get_x() + i.get_width() / 2, i.get_height()),\\n        textcoords=\\\"offset points\\\",\\n        xytext=(0, 2),\\n        size=7,\\n        ha=\\\"center\\\",\\n    )\\nax.set_title(\\\"Patients Gender in Relation to Stroke Possibility\\\")\\nax.set_xlabel(\\\"Gender\\\")\\nplt.xticks(rotation=0)\\nax.set_ylabel(\\\"Patients Quantity\\\")\\nplt.legend(title=\\\"Stroke Status\\\", loc=\\\"upper right\\\")\\nplt.show()\";\n",
       "                var nbb_cells = Jupyter.notebook.get_cells();\n",
       "                for (var i = 0; i < nbb_cells.length; ++i) {\n",
       "                    if (nbb_cells[i].input_prompt_number == nbb_cell_id) {\n",
       "                        if (nbb_cells[i].get_text() == nbb_unformatted_code) {\n",
       "                             nbb_cells[i].set_text(nbb_formatted_code);\n",
       "                        }\n",
       "                        break;\n",
       "                    }\n",
       "                }\n",
       "            }, 500);\n",
       "            "
      ],
      "text/plain": [
       "<IPython.core.display.Javascript object>"
      ]
     },
     "metadata": {},
     "output_type": "display_data"
    }
   ],
   "source": [
    "print(\n",
    "    \"Female patients in total: \",\n",
    "    df[\"gender\"].value_counts()[0],\n",
    ")\n",
    "print(\n",
    "    \"Male patients in total: \",\n",
    "    df[\"gender\"].value_counts()[1],\n",
    ")\n",
    "gender_by_stroke_counts = stroke_yes[\"gender\"].value_counts()\n",
    "gender_by_no_stroke_counts = stroke_no[\"gender\"].value_counts()\n",
    "gender_counts_df = pd.DataFrame(\n",
    "    {\n",
    "        \"stroke_yes\": gender_by_stroke_counts,\n",
    "        \"stroke_no\": gender_by_no_stroke_counts,\n",
    "    }\n",
    ")\n",
    "gender_counts_df.sort_index(inplace=True)\n",
    "gender_counts_df[\"stroke_yes\"] = round(\n",
    "    gender_counts_df[\"stroke_yes\"] * 100 / gender_counts_df[\"stroke_yes\"].sum(), 2\n",
    ")\n",
    "gender_counts_df[\"stroke_no\"] = round(\n",
    "    gender_counts_df[\"stroke_no\"] * 100 / gender_counts_df[\"stroke_no\"].sum(), 2\n",
    ")\n",
    "fig, ax = plt.subplots(figsize=(12, 6))\n",
    "gender_counts_df.iloc[:2, :].plot(kind=\"bar\", ax=ax)\n",
    "for i in ax.patches:\n",
    "    ax.annotate(\n",
    "        f\"{i.get_height():.1f}%\",\n",
    "        (i.get_x() + i.get_width() / 2, i.get_height()),\n",
    "        textcoords=\"offset points\",\n",
    "        xytext=(0, 2),\n",
    "        size=7,\n",
    "        ha=\"center\",\n",
    "    )\n",
    "ax.set_title(\"Patients Gender in Relation to Stroke Possibility\")\n",
    "ax.set_xlabel(\"Gender\")\n",
    "plt.xticks(rotation=0)\n",
    "ax.set_ylabel(\"Patients Quantity\")\n",
    "plt.legend(title=\"Stroke Status\", loc=\"upper right\")\n",
    "plt.show()\n"
   ]
  },
  {
   "cell_type": "markdown",
   "id": "27a1bfb8",
   "metadata": {},
   "source": [
    "### What marital status tends to have stroke more:\n"
   ]
  },
  {
   "cell_type": "markdown",
   "id": "6e0f4d43",
   "metadata": {},
   "source": [
    "* We see that ever_married people tend to have stroke far more often then single people:"
   ]
  },
  {
   "cell_type": "code",
   "execution_count": 17,
   "id": "45dc3cc5",
   "metadata": {},
   "outputs": [
    {
     "data": {
      "image/png": "[encoded data removed]",
      "text/plain": [
       "<Figure size 1200x600 with 1 Axes>"
      ]
     },
     "metadata": {},
     "output_type": "display_data"
    },
    {
     "data": {
      "application/javascript": [
       "\n",
       "            setTimeout(function() {\n",
       "                var nbb_cell_id = 17;\n",
       "                var nbb_unformatted_code = \"married_by_stroke_counts = stroke_yes[\\\"ever_married\\\"].value_counts()\\nmarried_by_no_stroke_counts = stroke_no[\\\"ever_married\\\"].value_counts()\\nmarried_counts_df = pd.DataFrame(\\n    {\\n        \\\"stroke_yes\\\": married_by_stroke_counts,\\n        \\\"stroke_no\\\": married_by_no_stroke_counts,\\n    }\\n)\\nmarried_counts_df.sort_index(inplace=True)\\nmarried_counts_df[\\\"stroke_yes\\\"] = round(\\n    married_counts_df[\\\"stroke_yes\\\"] * 100 / married_counts_df[\\\"stroke_yes\\\"].sum(), 2\\n)\\nmarried_counts_df[\\\"stroke_no\\\"] = round(\\n    married_counts_df[\\\"stroke_no\\\"] * 100 / married_counts_df[\\\"stroke_no\\\"].sum(), 2\\n)\\nfig, ax = plt.subplots(figsize=(12, 6))\\nmarried_counts_df.plot(kind=\\\"bar\\\", ax=ax)\\nfor i in ax.patches:\\n    ax.annotate(\\n        f\\\"{i.get_height():.1f}%\\\",\\n        (i.get_x() + i.get_width() / 2, i.get_height()),\\n        textcoords=\\\"offset points\\\",\\n        xytext=(0, 2),\\n        size=7,\\n        ha=\\\"center\\\",\\n    )\\nax.set_title(\\\"Patients That Were Ever Married in Relation to Stroke Possibility\\\")\\nax.set_xlabel(\\\"Ever_married\\\")\\nplt.xticks(rotation=0)\\nax.set_ylabel(\\\"Patients Quantity\\\")\\nplt.legend(title=\\\"Stroke Status\\\", loc=\\\"upper left\\\")\\nplt.show()\";\n",
       "                var nbb_formatted_code = \"married_by_stroke_counts = stroke_yes[\\\"ever_married\\\"].value_counts()\\nmarried_by_no_stroke_counts = stroke_no[\\\"ever_married\\\"].value_counts()\\nmarried_counts_df = pd.DataFrame(\\n    {\\n        \\\"stroke_yes\\\": married_by_stroke_counts,\\n        \\\"stroke_no\\\": married_by_no_stroke_counts,\\n    }\\n)\\nmarried_counts_df.sort_index(inplace=True)\\nmarried_counts_df[\\\"stroke_yes\\\"] = round(\\n    married_counts_df[\\\"stroke_yes\\\"] * 100 / married_counts_df[\\\"stroke_yes\\\"].sum(), 2\\n)\\nmarried_counts_df[\\\"stroke_no\\\"] = round(\\n    married_counts_df[\\\"stroke_no\\\"] * 100 / married_counts_df[\\\"stroke_no\\\"].sum(), 2\\n)\\nfig, ax = plt.subplots(figsize=(12, 6))\\nmarried_counts_df.plot(kind=\\\"bar\\\", ax=ax)\\nfor i in ax.patches:\\n    ax.annotate(\\n        f\\\"{i.get_height():.1f}%\\\",\\n        (i.get_x() + i.get_width() / 2, i.get_height()),\\n        textcoords=\\\"offset points\\\",\\n        xytext=(0, 2),\\n        size=7,\\n        ha=\\\"center\\\",\\n    )\\nax.set_title(\\\"Patients That Were Ever Married in Relation to Stroke Possibility\\\")\\nax.set_xlabel(\\\"Ever_married\\\")\\nplt.xticks(rotation=0)\\nax.set_ylabel(\\\"Patients Quantity\\\")\\nplt.legend(title=\\\"Stroke Status\\\", loc=\\\"upper left\\\")\\nplt.show()\";\n",
       "                var nbb_cells = Jupyter.notebook.get_cells();\n",
       "                for (var i = 0; i < nbb_cells.length; ++i) {\n",
       "                    if (nbb_cells[i].input_prompt_number == nbb_cell_id) {\n",
       "                        if (nbb_cells[i].get_text() == nbb_unformatted_code) {\n",
       "                             nbb_cells[i].set_text(nbb_formatted_code);\n",
       "                        }\n",
       "                        break;\n",
       "                    }\n",
       "                }\n",
       "            }, 500);\n",
       "            "
      ],
      "text/plain": [
       "<IPython.core.display.Javascript object>"
      ]
     },
     "metadata": {},
     "output_type": "display_data"
    }
   ],
   "source": [
    "married_by_stroke_counts = stroke_yes[\"ever_married\"].value_counts()\n",
    "married_by_no_stroke_counts = stroke_no[\"ever_married\"].value_counts()\n",
    "married_counts_df = pd.DataFrame(\n",
    "    {\n",
    "        \"stroke_yes\": married_by_stroke_counts,\n",
    "        \"stroke_no\": married_by_no_stroke_counts,\n",
    "    }\n",
    ")\n",
    "married_counts_df.sort_index(inplace=True)\n",
    "married_counts_df[\"stroke_yes\"] = round(\n",
    "    married_counts_df[\"stroke_yes\"] * 100 / married_counts_df[\"stroke_yes\"].sum(), 2\n",
    ")\n",
    "married_counts_df[\"stroke_no\"] = round(\n",
    "    married_counts_df[\"stroke_no\"] * 100 / married_counts_df[\"stroke_no\"].sum(), 2\n",
    ")\n",
    "fig, ax = plt.subplots(figsize=(12, 6))\n",
    "married_counts_df.plot(kind=\"bar\", ax=ax)\n",
    "for i in ax.patches:\n",
    "    ax.annotate(\n",
    "        f\"{i.get_height():.1f}%\",\n",
    "        (i.get_x() + i.get_width() / 2, i.get_height()),\n",
    "        textcoords=\"offset points\",\n",
    "        xytext=(0, 2),\n",
    "        size=7,\n",
    "        ha=\"center\",\n",
    "    )\n",
    "ax.set_title(\"Patients That Were Ever Married in Relation to Stroke Possibility\")\n",
    "ax.set_xlabel(\"Ever_married\")\n",
    "plt.xticks(rotation=0)\n",
    "ax.set_ylabel(\"Patients Quantity\")\n",
    "plt.legend(title=\"Stroke Status\", loc=\"upper left\")\n",
    "plt.show()\n"
   ]
  },
  {
   "cell_type": "markdown",
   "id": "8340d59a",
   "metadata": {},
   "source": [
    "* Providing various plots to see tendencies in patients group that had stroke:"
   ]
  },
  {
   "cell_type": "code",
   "execution_count": 18,
   "id": "676273a7",
   "metadata": {
    "scrolled": false
   },
   "outputs": [
    {
     "data": {
      "image/png": "[encoded data removed]",
      "text/plain": [
       "<Figure size 1200x1200 with 6 Axes>"
      ]
     },
     "metadata": {},
     "output_type": "display_data"
    },
    {
     "data": {
      "application/javascript": [
       "\n",
       "            setTimeout(function() {\n",
       "                var nbb_cell_id = 18;\n",
       "                var nbb_unformatted_code = \"fig, axes = plt.subplots(3, 2, figsize=(12, 12))\\n\\n# Work Type plot\\nprocentile = (\\n    stroke_yes.groupby([\\\"work_type\\\", \\\"gender\\\"])[\\\"gender\\\"].count()\\n    * 100\\n    / stroke_yes.groupby([\\\"work_type\\\", \\\"gender\\\"])[\\\"gender\\\"].value_counts().sum()\\n)\\nprocentile_df = procentile.reset_index(name=\\\"Procentile\\\")\\nsns.barplot(\\n    data=procentile_df, x=\\\"work_type\\\", y=\\\"Procentile\\\", hue=\\\"gender\\\", ax=axes[0, 0]\\n)\\nfor i in axes[0, 0].patches:\\n    axes[0, 0].annotate(\\n        f\\\"{i.get_height():.1f}%\\\",\\n        (i.get_x() + i.get_width() / 2, i.get_height()),\\n        textcoords=\\\"offset points\\\",\\n        xytext=(0, 2),\\n        size=7,\\n        ha=\\\"center\\\",\\n    )\\naxes[0, 0].set_title(\\\"Procentile of Stroke Positive Patients by Work Type and Gender\\\")\\naxes[0, 0].set_xlabel(\\\"Work Type\\\")\\naxes[0, 0].set_ylabel(\\\"Patients Quantity, %\\\")\\n\\n# Residency Type plot\\nprocentile = (\\n    stroke_yes.groupby([\\\"Residence_type\\\", \\\"gender\\\"])[\\\"gender\\\"].count()\\n    * 100\\n    / stroke_yes.groupby([\\\"Residence_type\\\", \\\"gender\\\"])[\\\"gender\\\"].value_counts().sum()\\n)\\nprocentile_df = procentile.reset_index(name=\\\"Procentile\\\")\\nsns.barplot(\\n    data=procentile_df, x=\\\"Residence_type\\\", y=\\\"Procentile\\\", hue=\\\"gender\\\", ax=axes[0, 1]\\n)\\nfor i in axes[0, 1].patches:\\n    axes[0, 1].annotate(\\n        f\\\"{i.get_height():.1f}%\\\",\\n        (i.get_x() + i.get_width() / 2, i.get_height()),\\n        textcoords=\\\"offset points\\\",\\n        xytext=(0, 2),\\n        size=7,\\n        ha=\\\"center\\\",\\n    )\\naxes[0, 1].set_title(\\n    \\\"Procentile of Stroke Positive Patients by Residence Type and Gender\\\"\\n)\\naxes[0, 1].set_xlabel(\\\"Residency\\\")\\naxes[0, 1].set_ylabel(\\\"Patients Quantity, %\\\")\\n\\n# Smoking Habits plot\\nprocentile = (\\n    stroke_yes.groupby([\\\"smoking_status\\\", \\\"gender\\\"])[\\\"gender\\\"].count()\\n    * 100\\n    / stroke_yes.groupby([\\\"smoking_status\\\", \\\"gender\\\"])[\\\"gender\\\"].value_counts().sum()\\n)\\nprocentile_df = procentile.reset_index(name=\\\"Procentile\\\")\\nsns.barplot(\\n    data=procentile_df, x=\\\"smoking_status\\\", y=\\\"Procentile\\\", hue=\\\"gender\\\", ax=axes[1, 0]\\n)\\nfor i in axes[1, 0].patches:\\n    axes[1, 0].annotate(\\n        f\\\"{i.get_height():.1f}%\\\",\\n        (i.get_x() + i.get_width() / 2, i.get_height()),\\n        textcoords=\\\"offset points\\\",\\n        xytext=(0, 2),\\n        size=7,\\n        ha=\\\"center\\\",\\n    )\\naxes[1, 0].set_title(\\n    \\\"Procentile of Stroke Positive Patients by Smoking Habbits and Gender\\\"\\n)\\naxes[1, 0].set_xlabel(\\\"Smoking Choices\\\")\\naxes[1, 0].set_ylabel(\\\"Patients Quantity, %\\\")\\naxes[1, 0].legend(title=\\\"Gender\\\")\\n\\n# Blood pressure plot\\nprocentile = (\\n    stroke_yes.groupby([\\\"hypertension\\\", \\\"gender\\\"])[\\\"gender\\\"].count()\\n    * 100\\n    / stroke_yes.groupby([\\\"hypertension\\\", \\\"gender\\\"])[\\\"gender\\\"].value_counts().sum()\\n)\\nprocentile_df = procentile.reset_index(name=\\\"Procentile\\\")\\nsns.barplot(\\n    data=procentile_df, x=\\\"hypertension\\\", y=\\\"Procentile\\\", hue=\\\"gender\\\", ax=axes[1, 1]\\n)\\nfor i in axes[1, 1].patches:\\n    axes[1, 1].annotate(\\n        f\\\"{i.get_height():.1f}%\\\",\\n        (i.get_x() + i.get_width() / 2, i.get_height()),\\n        textcoords=\\\"offset points\\\",\\n        xytext=(0, 2),\\n        size=7,\\n        ha=\\\"center\\\",\\n    )\\naxes[1, 1].set_title(\\n    \\\"Procentile of Stroke Positive Patients by Blood Pressure and Gender\\\"\\n)\\naxes[1, 1].set_xlabel(\\\"Blood pressure\\\")\\naxes[1, 1].set_xticks([0, 1], [\\\"No\\\", \\\"Yes\\\"])\\naxes[1, 1].set_ylabel(\\\"Patients Quantity, %\\\")\\naxes[1, 1].legend(title=\\\"Gender\\\")\\n\\n# Heart desease plot\\nprocentile = (\\n    stroke_yes.groupby([\\\"heart_disease\\\", \\\"gender\\\"])[\\\"gender\\\"].count()\\n    * 100\\n    / stroke_yes.groupby([\\\"heart_disease\\\", \\\"gender\\\"])[\\\"gender\\\"].value_counts().sum()\\n)\\nprocentile_df = procentile.reset_index(name=\\\"Procentile\\\")\\nsns.barplot(\\n    data=procentile_df, x=\\\"heart_disease\\\", y=\\\"Procentile\\\", hue=\\\"gender\\\", ax=axes[2, 0]\\n)\\nfor i in axes[2, 0].patches:\\n    axes[2, 0].annotate(\\n        f\\\"{i.get_height():.1f}%\\\",\\n        (i.get_x() + i.get_width() / 2, i.get_height()),\\n        textcoords=\\\"offset points\\\",\\n        xytext=(0, 2),\\n        size=7,\\n        ha=\\\"center\\\",\\n    )\\naxes[2, 0].set_title(\\n    \\\"Procentile of Stroke Positive Patients by Heart Desease and Gender\\\"\\n)\\naxes[2, 0].set_xlabel(\\\"Heart Desease\\\")\\naxes[2, 0].set_xticks([0, 1], [\\\"No\\\", \\\"Yes\\\"])\\naxes[2, 0].set_ylabel(\\\"Patients Quantity, %\\\")\\naxes[2, 0].legend(title=\\\"Gender\\\")\\n\\naxes[2, 1].axis(\\\"off\\\")\\nplt.tight_layout()\\nplt.show()\";\n",
       "                var nbb_formatted_code = \"fig, axes = plt.subplots(3, 2, figsize=(12, 12))\\n\\n# Work Type plot\\nprocentile = (\\n    stroke_yes.groupby([\\\"work_type\\\", \\\"gender\\\"])[\\\"gender\\\"].count()\\n    * 100\\n    / stroke_yes.groupby([\\\"work_type\\\", \\\"gender\\\"])[\\\"gender\\\"].value_counts().sum()\\n)\\nprocentile_df = procentile.reset_index(name=\\\"Procentile\\\")\\nsns.barplot(\\n    data=procentile_df, x=\\\"work_type\\\", y=\\\"Procentile\\\", hue=\\\"gender\\\", ax=axes[0, 0]\\n)\\nfor i in axes[0, 0].patches:\\n    axes[0, 0].annotate(\\n        f\\\"{i.get_height():.1f}%\\\",\\n        (i.get_x() + i.get_width() / 2, i.get_height()),\\n        textcoords=\\\"offset points\\\",\\n        xytext=(0, 2),\\n        size=7,\\n        ha=\\\"center\\\",\\n    )\\naxes[0, 0].set_title(\\\"Procentile of Stroke Positive Patients by Work Type and Gender\\\")\\naxes[0, 0].set_xlabel(\\\"Work Type\\\")\\naxes[0, 0].set_ylabel(\\\"Patients Quantity, %\\\")\\n\\n# Residency Type plot\\nprocentile = (\\n    stroke_yes.groupby([\\\"Residence_type\\\", \\\"gender\\\"])[\\\"gender\\\"].count()\\n    * 100\\n    / stroke_yes.groupby([\\\"Residence_type\\\", \\\"gender\\\"])[\\\"gender\\\"].value_counts().sum()\\n)\\nprocentile_df = procentile.reset_index(name=\\\"Procentile\\\")\\nsns.barplot(\\n    data=procentile_df, x=\\\"Residence_type\\\", y=\\\"Procentile\\\", hue=\\\"gender\\\", ax=axes[0, 1]\\n)\\nfor i in axes[0, 1].patches:\\n    axes[0, 1].annotate(\\n        f\\\"{i.get_height():.1f}%\\\",\\n        (i.get_x() + i.get_width() / 2, i.get_height()),\\n        textcoords=\\\"offset points\\\",\\n        xytext=(0, 2),\\n        size=7,\\n        ha=\\\"center\\\",\\n    )\\naxes[0, 1].set_title(\\n    \\\"Procentile of Stroke Positive Patients by Residence Type and Gender\\\"\\n)\\naxes[0, 1].set_xlabel(\\\"Residency\\\")\\naxes[0, 1].set_ylabel(\\\"Patients Quantity, %\\\")\\n\\n# Smoking Habits plot\\nprocentile = (\\n    stroke_yes.groupby([\\\"smoking_status\\\", \\\"gender\\\"])[\\\"gender\\\"].count()\\n    * 100\\n    / stroke_yes.groupby([\\\"smoking_status\\\", \\\"gender\\\"])[\\\"gender\\\"].value_counts().sum()\\n)\\nprocentile_df = procentile.reset_index(name=\\\"Procentile\\\")\\nsns.barplot(\\n    data=procentile_df, x=\\\"smoking_status\\\", y=\\\"Procentile\\\", hue=\\\"gender\\\", ax=axes[1, 0]\\n)\\nfor i in axes[1, 0].patches:\\n    axes[1, 0].annotate(\\n        f\\\"{i.get_height():.1f}%\\\",\\n        (i.get_x() + i.get_width() / 2, i.get_height()),\\n        textcoords=\\\"offset points\\\",\\n        xytext=(0, 2),\\n        size=7,\\n        ha=\\\"center\\\",\\n    )\\naxes[1, 0].set_title(\\n    \\\"Procentile of Stroke Positive Patients by Smoking Habbits and Gender\\\"\\n)\\naxes[1, 0].set_xlabel(\\\"Smoking Choices\\\")\\naxes[1, 0].set_ylabel(\\\"Patients Quantity, %\\\")\\naxes[1, 0].legend(title=\\\"Gender\\\")\\n\\n# Blood pressure plot\\nprocentile = (\\n    stroke_yes.groupby([\\\"hypertension\\\", \\\"gender\\\"])[\\\"gender\\\"].count()\\n    * 100\\n    / stroke_yes.groupby([\\\"hypertension\\\", \\\"gender\\\"])[\\\"gender\\\"].value_counts().sum()\\n)\\nprocentile_df = procentile.reset_index(name=\\\"Procentile\\\")\\nsns.barplot(\\n    data=procentile_df, x=\\\"hypertension\\\", y=\\\"Procentile\\\", hue=\\\"gender\\\", ax=axes[1, 1]\\n)\\nfor i in axes[1, 1].patches:\\n    axes[1, 1].annotate(\\n        f\\\"{i.get_height():.1f}%\\\",\\n        (i.get_x() + i.get_width() / 2, i.get_height()),\\n        textcoords=\\\"offset points\\\",\\n        xytext=(0, 2),\\n        size=7,\\n        ha=\\\"center\\\",\\n    )\\naxes[1, 1].set_title(\\n    \\\"Procentile of Stroke Positive Patients by Blood Pressure and Gender\\\"\\n)\\naxes[1, 1].set_xlabel(\\\"Blood pressure\\\")\\naxes[1, 1].set_xticks([0, 1], [\\\"No\\\", \\\"Yes\\\"])\\naxes[1, 1].set_ylabel(\\\"Patients Quantity, %\\\")\\naxes[1, 1].legend(title=\\\"Gender\\\")\\n\\n# Heart desease plot\\nprocentile = (\\n    stroke_yes.groupby([\\\"heart_disease\\\", \\\"gender\\\"])[\\\"gender\\\"].count()\\n    * 100\\n    / stroke_yes.groupby([\\\"heart_disease\\\", \\\"gender\\\"])[\\\"gender\\\"].value_counts().sum()\\n)\\nprocentile_df = procentile.reset_index(name=\\\"Procentile\\\")\\nsns.barplot(\\n    data=procentile_df, x=\\\"heart_disease\\\", y=\\\"Procentile\\\", hue=\\\"gender\\\", ax=axes[2, 0]\\n)\\nfor i in axes[2, 0].patches:\\n    axes[2, 0].annotate(\\n        f\\\"{i.get_height():.1f}%\\\",\\n        (i.get_x() + i.get_width() / 2, i.get_height()),\\n        textcoords=\\\"offset points\\\",\\n        xytext=(0, 2),\\n        size=7,\\n        ha=\\\"center\\\",\\n    )\\naxes[2, 0].set_title(\\n    \\\"Procentile of Stroke Positive Patients by Heart Desease and Gender\\\"\\n)\\naxes[2, 0].set_xlabel(\\\"Heart Desease\\\")\\naxes[2, 0].set_xticks([0, 1], [\\\"No\\\", \\\"Yes\\\"])\\naxes[2, 0].set_ylabel(\\\"Patients Quantity, %\\\")\\naxes[2, 0].legend(title=\\\"Gender\\\")\\n\\naxes[2, 1].axis(\\\"off\\\")\\nplt.tight_layout()\\nplt.show()\";\n",
       "                var nbb_cells = Jupyter.notebook.get_cells();\n",
       "                for (var i = 0; i < nbb_cells.length; ++i) {\n",
       "                    if (nbb_cells[i].input_prompt_number == nbb_cell_id) {\n",
       "                        if (nbb_cells[i].get_text() == nbb_unformatted_code) {\n",
       "                             nbb_cells[i].set_text(nbb_formatted_code);\n",
       "                        }\n",
       "                        break;\n",
       "                    }\n",
       "                }\n",
       "            }, 500);\n",
       "            "
      ],
      "text/plain": [
       "<IPython.core.display.Javascript object>"
      ]
     },
     "metadata": {},
     "output_type": "display_data"
    }
   ],
   "source": [
    "fig, axes = plt.subplots(3, 2, figsize=(12, 12))\n",
    "\n",
    "# Work Type plot\n",
    "procentile = (\n",
    "    stroke_yes.groupby([\"work_type\", \"gender\"])[\"gender\"].count()\n",
    "    * 100\n",
    "    / stroke_yes.groupby([\"work_type\", \"gender\"])[\"gender\"].value_counts().sum()\n",
    ")\n",
    "procentile_df = procentile.reset_index(name=\"Procentile\")\n",
    "sns.barplot(\n",
    "    data=procentile_df, x=\"work_type\", y=\"Procentile\", hue=\"gender\", ax=axes[0, 0]\n",
    ")\n",
    "for i in axes[0, 0].patches:\n",
    "    axes[0, 0].annotate(\n",
    "        f\"{i.get_height():.1f}%\",\n",
    "        (i.get_x() + i.get_width() / 2, i.get_height()),\n",
    "        textcoords=\"offset points\",\n",
    "        xytext=(0, 2),\n",
    "        size=7,\n",
    "        ha=\"center\",\n",
    "    )\n",
    "axes[0, 0].set_title(\"Procentile of Stroke Positive Patients by Work Type and Gender\")\n",
    "axes[0, 0].set_xlabel(\"Work Type\")\n",
    "axes[0, 0].set_ylabel(\"Patients Quantity, %\")\n",
    "\n",
    "# Residency Type plot\n",
    "procentile = (\n",
    "    stroke_yes.groupby([\"Residence_type\", \"gender\"])[\"gender\"].count()\n",
    "    * 100\n",
    "    / stroke_yes.groupby([\"Residence_type\", \"gender\"])[\"gender\"].value_counts().sum()\n",
    ")\n",
    "procentile_df = procentile.reset_index(name=\"Procentile\")\n",
    "sns.barplot(\n",
    "    data=procentile_df, x=\"Residence_type\", y=\"Procentile\", hue=\"gender\", ax=axes[0, 1]\n",
    ")\n",
    "for i in axes[0, 1].patches:\n",
    "    axes[0, 1].annotate(\n",
    "        f\"{i.get_height():.1f}%\",\n",
    "        (i.get_x() + i.get_width() / 2, i.get_height()),\n",
    "        textcoords=\"offset points\",\n",
    "        xytext=(0, 2),\n",
    "        size=7,\n",
    "        ha=\"center\",\n",
    "    )\n",
    "axes[0, 1].set_title(\n",
    "    \"Procentile of Stroke Positive Patients by Residence Type and Gender\"\n",
    ")\n",
    "axes[0, 1].set_xlabel(\"Residency\")\n",
    "axes[0, 1].set_ylabel(\"Patients Quantity, %\")\n",
    "\n",
    "# Smoking Habits plot\n",
    "procentile = (\n",
    "    stroke_yes.groupby([\"smoking_status\", \"gender\"])[\"gender\"].count()\n",
    "    * 100\n",
    "    / stroke_yes.groupby([\"smoking_status\", \"gender\"])[\"gender\"].value_counts().sum()\n",
    ")\n",
    "procentile_df = procentile.reset_index(name=\"Procentile\")\n",
    "sns.barplot(\n",
    "    data=procentile_df, x=\"smoking_status\", y=\"Procentile\", hue=\"gender\", ax=axes[1, 0]\n",
    ")\n",
    "for i in axes[1, 0].patches:\n",
    "    axes[1, 0].annotate(\n",
    "        f\"{i.get_height():.1f}%\",\n",
    "        (i.get_x() + i.get_width() / 2, i.get_height()),\n",
    "        textcoords=\"offset points\",\n",
    "        xytext=(0, 2),\n",
    "        size=7,\n",
    "        ha=\"center\",\n",
    "    )\n",
    "axes[1, 0].set_title(\n",
    "    \"Procentile of Stroke Positive Patients by Smoking Habbits and Gender\"\n",
    ")\n",
    "axes[1, 0].set_xlabel(\"Smoking Choices\")\n",
    "axes[1, 0].set_ylabel(\"Patients Quantity, %\")\n",
    "axes[1, 0].legend(title=\"Gender\")\n",
    "\n",
    "# Blood pressure plot\n",
    "procentile = (\n",
    "    stroke_yes.groupby([\"hypertension\", \"gender\"])[\"gender\"].count()\n",
    "    * 100\n",
    "    / stroke_yes.groupby([\"hypertension\", \"gender\"])[\"gender\"].value_counts().sum()\n",
    ")\n",
    "procentile_df = procentile.reset_index(name=\"Procentile\")\n",
    "sns.barplot(\n",
    "    data=procentile_df, x=\"hypertension\", y=\"Procentile\", hue=\"gender\", ax=axes[1, 1]\n",
    ")\n",
    "for i in axes[1, 1].patches:\n",
    "    axes[1, 1].annotate(\n",
    "        f\"{i.get_height():.1f}%\",\n",
    "        (i.get_x() + i.get_width() / 2, i.get_height()),\n",
    "        textcoords=\"offset points\",\n",
    "        xytext=(0, 2),\n",
    "        size=7,\n",
    "        ha=\"center\",\n",
    "    )\n",
    "axes[1, 1].set_title(\n",
    "    \"Procentile of Stroke Positive Patients by Blood Pressure and Gender\"\n",
    ")\n",
    "axes[1, 1].set_xlabel(\"Blood pressure\")\n",
    "axes[1, 1].set_xticks([0, 1], [\"No\", \"Yes\"])\n",
    "axes[1, 1].set_ylabel(\"Patients Quantity, %\")\n",
    "axes[1, 1].legend(title=\"Gender\")\n",
    "\n",
    "# Heart desease plot\n",
    "procentile = (\n",
    "    stroke_yes.groupby([\"heart_disease\", \"gender\"])[\"gender\"].count()\n",
    "    * 100\n",
    "    / stroke_yes.groupby([\"heart_disease\", \"gender\"])[\"gender\"].value_counts().sum()\n",
    ")\n",
    "procentile_df = procentile.reset_index(name=\"Procentile\")\n",
    "sns.barplot(\n",
    "    data=procentile_df, x=\"heart_disease\", y=\"Procentile\", hue=\"gender\", ax=axes[2, 0]\n",
    ")\n",
    "for i in axes[2, 0].patches:\n",
    "    axes[2, 0].annotate(\n",
    "        f\"{i.get_height():.1f}%\",\n",
    "        (i.get_x() + i.get_width() / 2, i.get_height()),\n",
    "        textcoords=\"offset points\",\n",
    "        xytext=(0, 2),\n",
    "        size=7,\n",
    "        ha=\"center\",\n",
    "    )\n",
    "axes[2, 0].set_title(\n",
    "    \"Procentile of Stroke Positive Patients by Heart Desease and Gender\"\n",
    ")\n",
    "axes[2, 0].set_xlabel(\"Heart Desease\")\n",
    "axes[2, 0].set_xticks([0, 1], [\"No\", \"Yes\"])\n",
    "axes[2, 0].set_ylabel(\"Patients Quantity, %\")\n",
    "axes[2, 0].legend(title=\"Gender\")\n",
    "\n",
    "axes[2, 1].axis(\"off\")\n",
    "plt.tight_layout()\n",
    "plt.show()"
   ]
  },
  {
   "cell_type": "markdown",
   "id": "238f2081",
   "metadata": {},
   "source": [
    "Conclusion:<br>\n",
    "* Most stroke sufferers work in the private sector and a higher proportion are women (30.5%);<br>\n",
    "* Most patients live in urban areas (female group 30.9%);<br>\n",
    "* The female group of stroke patients has never smoked (25.3%), the second group of patients admits to having smoked in the past, but almost 18% of both men and women are not known to smoke;<br>\n",
    "* Both genders admit to having had no blood pressure problems;<br>\n",
    "* Both stroke patiens genders admit to having no heart disease."
   ]
  },
  {
   "cell_type": "markdown",
   "id": "bd54ab45",
   "metadata": {},
   "source": [
    "### Glucose levels impact on stroke patients:"
   ]
  },
  {
   "cell_type": "markdown",
   "id": "e5550771",
   "metadata": {},
   "source": [
    "**Hypothesis**: glucose level has impact on patients having stroke;<br>\n",
    "**Alternative**: There is no meaningful difference in glucose level effect to get stroke "
   ]
  },
  {
   "cell_type": "code",
   "execution_count": 19,
   "id": "f138c675",
   "metadata": {},
   "outputs": [
    {
     "data": {
      "application/javascript": [
       "\n",
       "            setTimeout(function() {\n",
       "                var nbb_cell_id = 19;\n",
       "                var nbb_unformatted_code = \"def data_normality_check(data, column):\\n    statistic, p_value = shapiro(data[column])\\n    print(f\\\"Test Statistic: {statistic}\\\")\\n    print(f\\\"P-value: {p_value}\\\")\\n    alpha = 0.05\\n    if p_value > alpha:\\n        print(\\n            \\\"The data follows a normal distribution (fail to reject the null hypothesis).\\\"\\n        )\\n    else:\\n        print(\\n            \\\"The data does not follow a normal distribution (reject the null hypothesis).\\\"\\n        )\";\n",
       "                var nbb_formatted_code = \"def data_normality_check(data, column):\\n    statistic, p_value = shapiro(data[column])\\n    print(f\\\"Test Statistic: {statistic}\\\")\\n    print(f\\\"P-value: {p_value}\\\")\\n    alpha = 0.05\\n    if p_value > alpha:\\n        print(\\n            \\\"The data follows a normal distribution (fail to reject the null hypothesis).\\\"\\n        )\\n    else:\\n        print(\\n            \\\"The data does not follow a normal distribution (reject the null hypothesis).\\\"\\n        )\";\n",
       "                var nbb_cells = Jupyter.notebook.get_cells();\n",
       "                for (var i = 0; i < nbb_cells.length; ++i) {\n",
       "                    if (nbb_cells[i].input_prompt_number == nbb_cell_id) {\n",
       "                        if (nbb_cells[i].get_text() == nbb_unformatted_code) {\n",
       "                             nbb_cells[i].set_text(nbb_formatted_code);\n",
       "                        }\n",
       "                        break;\n",
       "                    }\n",
       "                }\n",
       "            }, 500);\n",
       "            "
      ],
      "text/plain": [
       "<IPython.core.display.Javascript object>"
      ]
     },
     "metadata": {},
     "output_type": "display_data"
    }
   ],
   "source": [
    "def data_normality_check(data, column):\n",
    "    statistic, p_value = shapiro(data[column])\n",
    "    print(f\"Test Statistic: {statistic}\")\n",
    "    print(f\"P-value: {p_value}\")\n",
    "    alpha = 0.05\n",
    "    if p_value > alpha:\n",
    "        print(\n",
    "            \"The data follows a normal distribution (fail to reject the null hypothesis).\"\n",
    "        )\n",
    "    else:\n",
    "        print(\n",
    "            \"The data does not follow a normal distribution (reject the null hypothesis).\"\n",
    "        )"
   ]
  },
  {
   "cell_type": "code",
   "execution_count": 20,
   "id": "9ec488d3",
   "metadata": {},
   "outputs": [
    {
     "data": {
      "application/javascript": [
       "\n",
       "            setTimeout(function() {\n",
       "                var nbb_cell_id = 20;\n",
       "                var nbb_unformatted_code = \"def plot_hist(dataframe, column_name, message):\\n    fig, ax = plt.subplots(1, figsize=(10, 3))\\n    sns.histplot(dataframe[column_name], kde=True)\\n    ax.set_title(\\\"Histogram - {} for {} Patients\\\".format(column_name, message))\\n    ax.set_xlabel(column_name)\\n    plt.tight_layout()\\n    plt.show()\";\n",
       "                var nbb_formatted_code = \"def plot_hist(dataframe, column_name, message):\\n    fig, ax = plt.subplots(1, figsize=(10, 3))\\n    sns.histplot(dataframe[column_name], kde=True)\\n    ax.set_title(\\\"Histogram - {} for {} Patients\\\".format(column_name, message))\\n    ax.set_xlabel(column_name)\\n    plt.tight_layout()\\n    plt.show()\";\n",
       "                var nbb_cells = Jupyter.notebook.get_cells();\n",
       "                for (var i = 0; i < nbb_cells.length; ++i) {\n",
       "                    if (nbb_cells[i].input_prompt_number == nbb_cell_id) {\n",
       "                        if (nbb_cells[i].get_text() == nbb_unformatted_code) {\n",
       "                             nbb_cells[i].set_text(nbb_formatted_code);\n",
       "                        }\n",
       "                        break;\n",
       "                    }\n",
       "                }\n",
       "            }, 500);\n",
       "            "
      ],
      "text/plain": [
       "<IPython.core.display.Javascript object>"
      ]
     },
     "metadata": {},
     "output_type": "display_data"
    }
   ],
   "source": [
    "def plot_hist(dataframe, column_name, message):\n",
    "    fig, ax = plt.subplots(1, figsize=(10, 3))\n",
    "    sns.histplot(dataframe[column_name], kde=True)\n",
    "    ax.set_title(\"Histogram - {} for {} Patients\".format(column_name, message))\n",
    "    ax.set_xlabel(column_name)\n",
    "    plt.tight_layout()\n",
    "    plt.show()"
   ]
  },
  {
   "cell_type": "code",
   "execution_count": 21,
   "id": "e9d4474e",
   "metadata": {},
   "outputs": [
    {
     "data": {
      "application/javascript": [
       "\n",
       "            setTimeout(function() {\n",
       "                var nbb_cell_id = 21;\n",
       "                var nbb_unformatted_code = \"def statistical_significance(data1, data2, alpha=0.05, alternative=\\\"two-sided\\\"):\\n    statistic, p_value = mannwhitneyu(data1, data2, alternative=alternative)\\n    print(\\\"P-value:\\\", p_value)\\n    if p_value < alpha:\\n        print(\\\"There is a statistically significant difference between the groups.\\\")\\n    else:\\n        print(\\\"There is no statistically significant difference between the groups.\\\")\";\n",
       "                var nbb_formatted_code = \"def statistical_significance(data1, data2, alpha=0.05, alternative=\\\"two-sided\\\"):\\n    statistic, p_value = mannwhitneyu(data1, data2, alternative=alternative)\\n    print(\\\"P-value:\\\", p_value)\\n    if p_value < alpha:\\n        print(\\\"There is a statistically significant difference between the groups.\\\")\\n    else:\\n        print(\\\"There is no statistically significant difference between the groups.\\\")\";\n",
       "                var nbb_cells = Jupyter.notebook.get_cells();\n",
       "                for (var i = 0; i < nbb_cells.length; ++i) {\n",
       "                    if (nbb_cells[i].input_prompt_number == nbb_cell_id) {\n",
       "                        if (nbb_cells[i].get_text() == nbb_unformatted_code) {\n",
       "                             nbb_cells[i].set_text(nbb_formatted_code);\n",
       "                        }\n",
       "                        break;\n",
       "                    }\n",
       "                }\n",
       "            }, 500);\n",
       "            "
      ],
      "text/plain": [
       "<IPython.core.display.Javascript object>"
      ]
     },
     "metadata": {},
     "output_type": "display_data"
    }
   ],
   "source": [
    "def statistical_significance(data1, data2, alpha=0.05, alternative=\"two-sided\"):\n",
    "    statistic, p_value = mannwhitneyu(data1, data2, alternative=alternative)\n",
    "    print(\"P-value:\", p_value)\n",
    "    if p_value < alpha:\n",
    "        print(\"There is a statistically significant difference between the groups.\")\n",
    "    else:\n",
    "        print(\"There is no statistically significant difference between the groups.\")\n"
   ]
  },
  {
   "cell_type": "code",
   "execution_count": 22,
   "id": "61c14814",
   "metadata": {},
   "outputs": [
    {
     "data": {
      "application/javascript": [
       "\n",
       "            setTimeout(function() {\n",
       "                var nbb_cell_id = 22;\n",
       "                var nbb_unformatted_code = \"def mean_difference(data1, data2):\\n    column_name = data1.name\\n    mean_difference = round(data1.mean() - data2.mean(), 2)\\n    print(f\\\"The difference between groups in {column_name} mean: {mean_difference}\\\")\";\n",
       "                var nbb_formatted_code = \"def mean_difference(data1, data2):\\n    column_name = data1.name\\n    mean_difference = round(data1.mean() - data2.mean(), 2)\\n    print(f\\\"The difference between groups in {column_name} mean: {mean_difference}\\\")\";\n",
       "                var nbb_cells = Jupyter.notebook.get_cells();\n",
       "                for (var i = 0; i < nbb_cells.length; ++i) {\n",
       "                    if (nbb_cells[i].input_prompt_number == nbb_cell_id) {\n",
       "                        if (nbb_cells[i].get_text() == nbb_unformatted_code) {\n",
       "                             nbb_cells[i].set_text(nbb_formatted_code);\n",
       "                        }\n",
       "                        break;\n",
       "                    }\n",
       "                }\n",
       "            }, 500);\n",
       "            "
      ],
      "text/plain": [
       "<IPython.core.display.Javascript object>"
      ]
     },
     "metadata": {},
     "output_type": "display_data"
    }
   ],
   "source": [
    "def mean_difference(data1, data2):\n",
    "    column_name = data1.name\n",
    "    mean_difference = round(data1.mean() - data2.mean(), 2)\n",
    "    print(f\"The difference between groups in {column_name} mean: {mean_difference}\")"
   ]
  },
  {
   "cell_type": "code",
   "execution_count": 23,
   "id": "7c768047",
   "metadata": {},
   "outputs": [
    {
     "data": {
      "application/javascript": [
       "\n",
       "            setTimeout(function() {\n",
       "                var nbb_cell_id = 23;\n",
       "                var nbb_unformatted_code = \"def confidence_interval(dataframe, column_name, confidence_level=0.95):\\n    data = dataframe[column_name]\\n\\n    mean = data.mean()\\n    std = data.std()\\n    n = len(data)\\n\\n    standard_error = std / np.sqrt(n)\\n    margin_of_error = standard_error * 1.96\\n\\n    lower_bound = round((mean - margin_of_error), 2)\\n    upper_bound = round((mean + margin_of_error), 2)\\n\\n    print(\\n        \\\"{}% Confidence Interval for {} mean: [{:.2f}, {:.2f}] mg/dL\\\".format(\\n            confidence_level * 100, column_name, lower_bound, upper_bound\\n        )\\n    )\";\n",
       "                var nbb_formatted_code = \"def confidence_interval(dataframe, column_name, confidence_level=0.95):\\n    data = dataframe[column_name]\\n\\n    mean = data.mean()\\n    std = data.std()\\n    n = len(data)\\n\\n    standard_error = std / np.sqrt(n)\\n    margin_of_error = standard_error * 1.96\\n\\n    lower_bound = round((mean - margin_of_error), 2)\\n    upper_bound = round((mean + margin_of_error), 2)\\n\\n    print(\\n        \\\"{}% Confidence Interval for {} mean: [{:.2f}, {:.2f}] mg/dL\\\".format(\\n            confidence_level * 100, column_name, lower_bound, upper_bound\\n        )\\n    )\";\n",
       "                var nbb_cells = Jupyter.notebook.get_cells();\n",
       "                for (var i = 0; i < nbb_cells.length; ++i) {\n",
       "                    if (nbb_cells[i].input_prompt_number == nbb_cell_id) {\n",
       "                        if (nbb_cells[i].get_text() == nbb_unformatted_code) {\n",
       "                             nbb_cells[i].set_text(nbb_formatted_code);\n",
       "                        }\n",
       "                        break;\n",
       "                    }\n",
       "                }\n",
       "            }, 500);\n",
       "            "
      ],
      "text/plain": [
       "<IPython.core.display.Javascript object>"
      ]
     },
     "metadata": {},
     "output_type": "display_data"
    }
   ],
   "source": [
    "def confidence_interval(dataframe, column_name, confidence_level=0.95):\n",
    "    data = dataframe[column_name]\n",
    "\n",
    "    mean = data.mean()\n",
    "    std = data.std()\n",
    "    n = len(data)\n",
    "\n",
    "    standard_error = std / np.sqrt(n)\n",
    "    margin_of_error = standard_error * 1.96\n",
    "\n",
    "    lower_bound = round((mean - margin_of_error), 2)\n",
    "    upper_bound = round((mean + margin_of_error), 2)\n",
    "\n",
    "    print(\n",
    "        \"{}% Confidence Interval for {} mean: [{:.2f}, {:.2f}] mg/dL\".format(\n",
    "            confidence_level * 100, column_name, lower_bound, upper_bound\n",
    "        )\n",
    "    )"
   ]
  },
  {
   "cell_type": "markdown",
   "id": "7c0ea858",
   "metadata": {},
   "source": [
    "Let's check if data is normally distributed in our dataframe. For that I use Shapiro-Wilk Test and histogram to visualise results:\n",
    "the null hypothesis is that the data follows a normal distribution\n",
    "If p-value is lower than alpha means data is not normally distributed.\n",
    "* In both the \"Stroke positive\" and the \"Stroke negative\" groups, the Shapiro-Wilk test results p-values obtained are very close to zero, meaning that we reject the idea that the data in both groups is normally distributed."
   ]
  },
  {
   "cell_type": "code",
   "execution_count": 24,
   "id": "856e4ac3",
   "metadata": {},
   "outputs": [
    {
     "name": "stdout",
     "output_type": "stream",
     "text": [
      "Test Statistic: 0.8058695197105408\n",
      "P-value: 0.0\n",
      "The data does not follow a normal distribution (reject the null hypothesis).\n"
     ]
    },
    {
     "data": {
      "application/javascript": [
       "\n",
       "            setTimeout(function() {\n",
       "                var nbb_cell_id = 24;\n",
       "                var nbb_unformatted_code = \"data_normality_check(df, \\\"avg_glucose_level\\\")\";\n",
       "                var nbb_formatted_code = \"data_normality_check(df, \\\"avg_glucose_level\\\")\";\n",
       "                var nbb_cells = Jupyter.notebook.get_cells();\n",
       "                for (var i = 0; i < nbb_cells.length; ++i) {\n",
       "                    if (nbb_cells[i].input_prompt_number == nbb_cell_id) {\n",
       "                        if (nbb_cells[i].get_text() == nbb_unformatted_code) {\n",
       "                             nbb_cells[i].set_text(nbb_formatted_code);\n",
       "                        }\n",
       "                        break;\n",
       "                    }\n",
       "                }\n",
       "            }, 500);\n",
       "            "
      ],
      "text/plain": [
       "<IPython.core.display.Javascript object>"
      ]
     },
     "metadata": {},
     "output_type": "display_data"
    }
   ],
   "source": [
    "data_normality_check(df, \"avg_glucose_level\")"
   ]
  },
  {
   "cell_type": "code",
   "execution_count": 25,
   "id": "660cb6f9",
   "metadata": {
    "scrolled": false
   },
   "outputs": [
    {
     "data": {
      "image/png": "[encoded data removed]",
      "text/plain": [
       "<Figure size 1000x300 with 1 Axes>"
      ]
     },
     "metadata": {},
     "output_type": "display_data"
    },
    {
     "data": {
      "image/png": "[encoded data removed]",
      "text/plain": [
       "<Figure size 1000x300 with 1 Axes>"
      ]
     },
     "metadata": {},
     "output_type": "display_data"
    },
    {
     "data": {
      "application/javascript": [
       "\n",
       "            setTimeout(function() {\n",
       "                var nbb_cell_id = 25;\n",
       "                var nbb_unformatted_code = \"plot_hist(stroke_yes, \\\"avg_glucose_level\\\", \\\"Stroke\\\")\\nplot_hist(stroke_no, \\\"avg_glucose_level\\\", \\\"Healthy\\\")\";\n",
       "                var nbb_formatted_code = \"plot_hist(stroke_yes, \\\"avg_glucose_level\\\", \\\"Stroke\\\")\\nplot_hist(stroke_no, \\\"avg_glucose_level\\\", \\\"Healthy\\\")\";\n",
       "                var nbb_cells = Jupyter.notebook.get_cells();\n",
       "                for (var i = 0; i < nbb_cells.length; ++i) {\n",
       "                    if (nbb_cells[i].input_prompt_number == nbb_cell_id) {\n",
       "                        if (nbb_cells[i].get_text() == nbb_unformatted_code) {\n",
       "                             nbb_cells[i].set_text(nbb_formatted_code);\n",
       "                        }\n",
       "                        break;\n",
       "                    }\n",
       "                }\n",
       "            }, 500);\n",
       "            "
      ],
      "text/plain": [
       "<IPython.core.display.Javascript object>"
      ]
     },
     "metadata": {},
     "output_type": "display_data"
    }
   ],
   "source": [
    "plot_hist(stroke_yes, \"avg_glucose_level\", \"Stroke\")\n",
    "plot_hist(stroke_no, \"avg_glucose_level\", \"Healthy\")"
   ]
  },
  {
   "cell_type": "code",
   "execution_count": 26,
   "id": "62f0feb3",
   "metadata": {},
   "outputs": [
    {
     "name": "stdout",
     "output_type": "stream",
     "text": [
      "P-value: 3.6403672710893236e-09\n",
      "There is a statistically significant difference between the groups.\n"
     ]
    },
    {
     "data": {
      "application/javascript": [
       "\n",
       "            setTimeout(function() {\n",
       "                var nbb_cell_id = 26;\n",
       "                var nbb_unformatted_code = \"statistical_significance(\\n    stroke_yes[\\\"avg_glucose_level\\\"], stroke_no[\\\"avg_glucose_level\\\"]\\n)\";\n",
       "                var nbb_formatted_code = \"statistical_significance(\\n    stroke_yes[\\\"avg_glucose_level\\\"], stroke_no[\\\"avg_glucose_level\\\"]\\n)\";\n",
       "                var nbb_cells = Jupyter.notebook.get_cells();\n",
       "                for (var i = 0; i < nbb_cells.length; ++i) {\n",
       "                    if (nbb_cells[i].input_prompt_number == nbb_cell_id) {\n",
       "                        if (nbb_cells[i].get_text() == nbb_unformatted_code) {\n",
       "                             nbb_cells[i].set_text(nbb_formatted_code);\n",
       "                        }\n",
       "                        break;\n",
       "                    }\n",
       "                }\n",
       "            }, 500);\n",
       "            "
      ],
      "text/plain": [
       "<IPython.core.display.Javascript object>"
      ]
     },
     "metadata": {},
     "output_type": "display_data"
    }
   ],
   "source": [
    "statistical_significance(\n",
    "    stroke_yes[\"avg_glucose_level\"], stroke_no[\"avg_glucose_level\"]\n",
    ")"
   ]
  },
  {
   "cell_type": "code",
   "execution_count": 27,
   "id": "1fdff421",
   "metadata": {},
   "outputs": [
    {
     "name": "stdout",
     "output_type": "stream",
     "text": [
      "The difference between groups in avg_glucose_level mean: 27.75\n"
     ]
    },
    {
     "data": {
      "application/javascript": [
       "\n",
       "            setTimeout(function() {\n",
       "                var nbb_cell_id = 27;\n",
       "                var nbb_unformatted_code = \"mean_difference(\\n    stroke_yes[\\\"avg_glucose_level\\\"],\\n    stroke_no[\\\"avg_glucose_level\\\"],\\n)\";\n",
       "                var nbb_formatted_code = \"mean_difference(\\n    stroke_yes[\\\"avg_glucose_level\\\"],\\n    stroke_no[\\\"avg_glucose_level\\\"],\\n)\";\n",
       "                var nbb_cells = Jupyter.notebook.get_cells();\n",
       "                for (var i = 0; i < nbb_cells.length; ++i) {\n",
       "                    if (nbb_cells[i].input_prompt_number == nbb_cell_id) {\n",
       "                        if (nbb_cells[i].get_text() == nbb_unformatted_code) {\n",
       "                             nbb_cells[i].set_text(nbb_formatted_code);\n",
       "                        }\n",
       "                        break;\n",
       "                    }\n",
       "                }\n",
       "            }, 500);\n",
       "            "
      ],
      "text/plain": [
       "<IPython.core.display.Javascript object>"
      ]
     },
     "metadata": {},
     "output_type": "display_data"
    }
   ],
   "source": [
    "mean_difference(\n",
    "    stroke_yes[\"avg_glucose_level\"],\n",
    "    stroke_no[\"avg_glucose_level\"],\n",
    ")"
   ]
  },
  {
   "cell_type": "code",
   "execution_count": 28,
   "id": "7b6dba7a",
   "metadata": {},
   "outputs": [
    {
     "name": "stdout",
     "output_type": "stream",
     "text": [
      "Stroke patients:\n",
      "95.0% Confidence Interval for avg_glucose_level mean: [124.85, 140.24] mg/dL\n",
      "Healthy patients:\n",
      "95.0% Confidence Interval for avg_glucose_level mean: [103.56, 106.03] mg/dL\n"
     ]
    },
    {
     "data": {
      "application/javascript": [
       "\n",
       "            setTimeout(function() {\n",
       "                var nbb_cell_id = 28;\n",
       "                var nbb_unformatted_code = \"stroke_yes = df[df[\\\"stroke\\\"] == 1]\\nstroke_no = df[df[\\\"stroke\\\"] == 0]\\nprint(\\\"Stroke patients:\\\")\\nconfidence_interval(stroke_yes, \\\"avg_glucose_level\\\")\\nprint(\\\"Healthy patients:\\\")\\nconfidence_interval(stroke_no, \\\"avg_glucose_level\\\")\";\n",
       "                var nbb_formatted_code = \"stroke_yes = df[df[\\\"stroke\\\"] == 1]\\nstroke_no = df[df[\\\"stroke\\\"] == 0]\\nprint(\\\"Stroke patients:\\\")\\nconfidence_interval(stroke_yes, \\\"avg_glucose_level\\\")\\nprint(\\\"Healthy patients:\\\")\\nconfidence_interval(stroke_no, \\\"avg_glucose_level\\\")\";\n",
       "                var nbb_cells = Jupyter.notebook.get_cells();\n",
       "                for (var i = 0; i < nbb_cells.length; ++i) {\n",
       "                    if (nbb_cells[i].input_prompt_number == nbb_cell_id) {\n",
       "                        if (nbb_cells[i].get_text() == nbb_unformatted_code) {\n",
       "                             nbb_cells[i].set_text(nbb_formatted_code);\n",
       "                        }\n",
       "                        break;\n",
       "                    }\n",
       "                }\n",
       "            }, 500);\n",
       "            "
      ],
      "text/plain": [
       "<IPython.core.display.Javascript object>"
      ]
     },
     "metadata": {},
     "output_type": "display_data"
    }
   ],
   "source": [
    "stroke_yes = df[df[\"stroke\"] == 1]\n",
    "stroke_no = df[df[\"stroke\"] == 0]\n",
    "print(\"Stroke patients:\")\n",
    "confidence_interval(stroke_yes, \"avg_glucose_level\")\n",
    "print(\"Healthy patients:\")\n",
    "confidence_interval(stroke_no, \"avg_glucose_level\")"
   ]
  },
  {
   "cell_type": "markdown",
   "id": "99e08b66",
   "metadata": {},
   "source": [
    "### Data Processing"
   ]
  },
  {
   "cell_type": "markdown",
   "id": "d00ae295",
   "metadata": {},
   "source": [
    "* There is 1 gender \"Other\" for only one patient, so for modeling convenience I will remove it:"
   ]
  },
  {
   "cell_type": "code",
   "execution_count": 29,
   "id": "24870852",
   "metadata": {},
   "outputs": [
    {
     "data": {
      "application/javascript": [
       "\n",
       "            setTimeout(function() {\n",
       "                var nbb_cell_id = 29;\n",
       "                var nbb_unformatted_code = \"other = df[df[\\\"gender\\\"] == \\\"Other\\\"].index\\ndf.drop(other, inplace=True)\";\n",
       "                var nbb_formatted_code = \"other = df[df[\\\"gender\\\"] == \\\"Other\\\"].index\\ndf.drop(other, inplace=True)\";\n",
       "                var nbb_cells = Jupyter.notebook.get_cells();\n",
       "                for (var i = 0; i < nbb_cells.length; ++i) {\n",
       "                    if (nbb_cells[i].input_prompt_number == nbb_cell_id) {\n",
       "                        if (nbb_cells[i].get_text() == nbb_unformatted_code) {\n",
       "                             nbb_cells[i].set_text(nbb_formatted_code);\n",
       "                        }\n",
       "                        break;\n",
       "                    }\n",
       "                }\n",
       "            }, 500);\n",
       "            "
      ],
      "text/plain": [
       "<IPython.core.display.Javascript object>"
      ]
     },
     "metadata": {},
     "output_type": "display_data"
    }
   ],
   "source": [
    "other = df[df[\"gender\"] == \"Other\"].index\n",
    "df.drop(other, inplace=True)"
   ]
  },
  {
   "cell_type": "markdown",
   "id": "eca055f3",
   "metadata": {},
   "source": [
    "* Column 'id' has no value to us, therefore I delete it. * To fill missing values in 'bmi' column I use KNNImputer (uses k-Nearest Neighbors):"
   ]
  },
  {
   "cell_type": "markdown",
   "id": "ee3b198d",
   "metadata": {},
   "source": [
    "* For model evaluation I will use F1 score. A good F1 score means that you have low false positives and low false negatives. An F1 score is considered perfect when it's 1 , while the model is a total failure when it's 0"
   ]
  },
  {
   "cell_type": "code",
   "execution_count": 30,
   "id": "f2997ebe",
   "metadata": {},
   "outputs": [
    {
     "data": {
      "application/javascript": [
       "\n",
       "            setTimeout(function() {\n",
       "                var nbb_cell_id = 30;\n",
       "                var nbb_unformatted_code = \"X = df.drop([\\\"stroke\\\", \\\"id\\\"], axis=1)\\ny = df[\\\"stroke\\\"]\";\n",
       "                var nbb_formatted_code = \"X = df.drop([\\\"stroke\\\", \\\"id\\\"], axis=1)\\ny = df[\\\"stroke\\\"]\";\n",
       "                var nbb_cells = Jupyter.notebook.get_cells();\n",
       "                for (var i = 0; i < nbb_cells.length; ++i) {\n",
       "                    if (nbb_cells[i].input_prompt_number == nbb_cell_id) {\n",
       "                        if (nbb_cells[i].get_text() == nbb_unformatted_code) {\n",
       "                             nbb_cells[i].set_text(nbb_formatted_code);\n",
       "                        }\n",
       "                        break;\n",
       "                    }\n",
       "                }\n",
       "            }, 500);\n",
       "            "
      ],
      "text/plain": [
       "<IPython.core.display.Javascript object>"
      ]
     },
     "metadata": {},
     "output_type": "display_data"
    }
   ],
   "source": [
    "X = df.drop([\"stroke\", \"id\"], axis=1)\n",
    "y = df[\"stroke\"]"
   ]
  },
  {
   "cell_type": "code",
   "execution_count": 31,
   "id": "863741b3",
   "metadata": {},
   "outputs": [
    {
     "data": {
      "application/javascript": [
       "\n",
       "            setTimeout(function() {\n",
       "                var nbb_cell_id = 31;\n",
       "                var nbb_unformatted_code = \"cat_features = X.select_dtypes(include=[\\\"object\\\", \\\"category\\\"]).columns.tolist()\\nnum_features = X.select_dtypes(exclude=[\\\"object\\\", \\\"category\\\"]).columns.tolist()\";\n",
       "                var nbb_formatted_code = \"cat_features = X.select_dtypes(include=[\\\"object\\\", \\\"category\\\"]).columns.tolist()\\nnum_features = X.select_dtypes(exclude=[\\\"object\\\", \\\"category\\\"]).columns.tolist()\";\n",
       "                var nbb_cells = Jupyter.notebook.get_cells();\n",
       "                for (var i = 0; i < nbb_cells.length; ++i) {\n",
       "                    if (nbb_cells[i].input_prompt_number == nbb_cell_id) {\n",
       "                        if (nbb_cells[i].get_text() == nbb_unformatted_code) {\n",
       "                             nbb_cells[i].set_text(nbb_formatted_code);\n",
       "                        }\n",
       "                        break;\n",
       "                    }\n",
       "                }\n",
       "            }, 500);\n",
       "            "
      ],
      "text/plain": [
       "<IPython.core.display.Javascript object>"
      ]
     },
     "metadata": {},
     "output_type": "display_data"
    }
   ],
   "source": [
    "cat_features = X.select_dtypes(include=[\"object\", \"category\"]).columns.tolist()\n",
    "num_features = X.select_dtypes(exclude=[\"object\", \"category\"]).columns.tolist()"
   ]
  },
  {
   "cell_type": "code",
   "execution_count": 32,
   "id": "68547d2b",
   "metadata": {
    "scrolled": false
   },
   "outputs": [
    {
     "data": {
      "text/html": [
       "<div>\n",
       "<style scoped>\n",
       "    .dataframe tbody tr th:only-of-type {\n",
       "        vertical-align: middle;\n",
       "    }\n",
       "\n",
       "    .dataframe tbody tr th {\n",
       "        vertical-align: top;\n",
       "    }\n",
       "\n",
       "    .dataframe thead th {\n",
       "        text-align: right;\n",
       "    }\n",
       "</style>\n",
       "<table border=\"1\" class=\"dataframe\">\n",
       "  <thead>\n",
       "    <tr style=\"text-align: right;\">\n",
       "      <th></th>\n",
       "      <th>gender</th>\n",
       "      <th>age</th>\n",
       "      <th>hypertension</th>\n",
       "      <th>heart_disease</th>\n",
       "      <th>ever_married</th>\n",
       "      <th>work_type</th>\n",
       "      <th>Residence_type</th>\n",
       "      <th>avg_glucose_level</th>\n",
       "      <th>bmi</th>\n",
       "      <th>smoking_status</th>\n",
       "    </tr>\n",
       "  </thead>\n",
       "  <tbody>\n",
       "    <tr>\n",
       "      <th>0</th>\n",
       "      <td>Male</td>\n",
       "      <td>67.0</td>\n",
       "      <td>0</td>\n",
       "      <td>1</td>\n",
       "      <td>Yes</td>\n",
       "      <td>Private</td>\n",
       "      <td>Urban</td>\n",
       "      <td>228.69</td>\n",
       "      <td>36.600000</td>\n",
       "      <td>formerly smoked</td>\n",
       "    </tr>\n",
       "    <tr>\n",
       "      <th>1</th>\n",
       "      <td>Female</td>\n",
       "      <td>61.0</td>\n",
       "      <td>0</td>\n",
       "      <td>0</td>\n",
       "      <td>Yes</td>\n",
       "      <td>Self-employed</td>\n",
       "      <td>Rural</td>\n",
       "      <td>202.21</td>\n",
       "      <td>28.893237</td>\n",
       "      <td>never smoked</td>\n",
       "    </tr>\n",
       "    <tr>\n",
       "      <th>2</th>\n",
       "      <td>Male</td>\n",
       "      <td>80.0</td>\n",
       "      <td>0</td>\n",
       "      <td>1</td>\n",
       "      <td>Yes</td>\n",
       "      <td>Private</td>\n",
       "      <td>Rural</td>\n",
       "      <td>105.92</td>\n",
       "      <td>32.500000</td>\n",
       "      <td>never smoked</td>\n",
       "    </tr>\n",
       "    <tr>\n",
       "      <th>3</th>\n",
       "      <td>Female</td>\n",
       "      <td>49.0</td>\n",
       "      <td>0</td>\n",
       "      <td>0</td>\n",
       "      <td>Yes</td>\n",
       "      <td>Private</td>\n",
       "      <td>Urban</td>\n",
       "      <td>171.23</td>\n",
       "      <td>34.400000</td>\n",
       "      <td>smokes</td>\n",
       "    </tr>\n",
       "    <tr>\n",
       "      <th>4</th>\n",
       "      <td>Female</td>\n",
       "      <td>79.0</td>\n",
       "      <td>1</td>\n",
       "      <td>0</td>\n",
       "      <td>Yes</td>\n",
       "      <td>Self-employed</td>\n",
       "      <td>Rural</td>\n",
       "      <td>174.12</td>\n",
       "      <td>24.000000</td>\n",
       "      <td>never smoked</td>\n",
       "    </tr>\n",
       "  </tbody>\n",
       "</table>\n",
       "</div>"
      ],
      "text/plain": [
       "   gender   age  hypertension  heart_disease ever_married      work_type  \\\n",
       "0    Male  67.0             0              1          Yes        Private   \n",
       "1  Female  61.0             0              0          Yes  Self-employed   \n",
       "2    Male  80.0             0              1          Yes        Private   \n",
       "3  Female  49.0             0              0          Yes        Private   \n",
       "4  Female  79.0             1              0          Yes  Self-employed   \n",
       "\n",
       "  Residence_type  avg_glucose_level        bmi   smoking_status  \n",
       "0          Urban             228.69  36.600000  formerly smoked  \n",
       "1          Rural             202.21  28.893237     never smoked  \n",
       "2          Rural             105.92  32.500000     never smoked  \n",
       "3          Urban             171.23  34.400000           smokes  \n",
       "4          Rural             174.12  24.000000     never smoked  "
      ]
     },
     "execution_count": 32,
     "metadata": {},
     "output_type": "execute_result"
    },
    {
     "data": {
      "application/javascript": [
       "\n",
       "            setTimeout(function() {\n",
       "                var nbb_cell_id = 32;\n",
       "                var nbb_unformatted_code = \"X.head()\";\n",
       "                var nbb_formatted_code = \"X.head()\";\n",
       "                var nbb_cells = Jupyter.notebook.get_cells();\n",
       "                for (var i = 0; i < nbb_cells.length; ++i) {\n",
       "                    if (nbb_cells[i].input_prompt_number == nbb_cell_id) {\n",
       "                        if (nbb_cells[i].get_text() == nbb_unformatted_code) {\n",
       "                             nbb_cells[i].set_text(nbb_formatted_code);\n",
       "                        }\n",
       "                        break;\n",
       "                    }\n",
       "                }\n",
       "            }, 500);\n",
       "            "
      ],
      "text/plain": [
       "<IPython.core.display.Javascript object>"
      ]
     },
     "metadata": {},
     "output_type": "display_data"
    }
   ],
   "source": [
    "X.head()"
   ]
  },
  {
   "cell_type": "code",
   "execution_count": 33,
   "id": "93b3a89d",
   "metadata": {},
   "outputs": [
    {
     "data": {
      "application/javascript": [
       "\n",
       "            setTimeout(function() {\n",
       "                var nbb_cell_id = 33;\n",
       "                var nbb_unformatted_code = \"X_train, X_test, y_train, y_test = train_test_split(\\n    X, y, stratify=y, test_size=0.2, random_state=42\\n)\";\n",
       "                var nbb_formatted_code = \"X_train, X_test, y_train, y_test = train_test_split(\\n    X, y, stratify=y, test_size=0.2, random_state=42\\n)\";\n",
       "                var nbb_cells = Jupyter.notebook.get_cells();\n",
       "                for (var i = 0; i < nbb_cells.length; ++i) {\n",
       "                    if (nbb_cells[i].input_prompt_number == nbb_cell_id) {\n",
       "                        if (nbb_cells[i].get_text() == nbb_unformatted_code) {\n",
       "                             nbb_cells[i].set_text(nbb_formatted_code);\n",
       "                        }\n",
       "                        break;\n",
       "                    }\n",
       "                }\n",
       "            }, 500);\n",
       "            "
      ],
      "text/plain": [
       "<IPython.core.display.Javascript object>"
      ]
     },
     "metadata": {},
     "output_type": "display_data"
    }
   ],
   "source": [
    "X_train, X_test, y_train, y_test = train_test_split(\n",
    "    X, y, stratify=y, test_size=0.2, random_state=42\n",
    ")"
   ]
  },
  {
   "cell_type": "code",
   "execution_count": 34,
   "id": "6e102ac5",
   "metadata": {},
   "outputs": [
    {
     "data": {
      "text/plain": [
       "(stroke\n",
       " 0    3888\n",
       " 1     199\n",
       " Name: count, dtype: int64,\n",
       " stroke\n",
       " 0    972\n",
       " 1     50\n",
       " Name: count, dtype: int64)"
      ]
     },
     "execution_count": 34,
     "metadata": {},
     "output_type": "execute_result"
    },
    {
     "data": {
      "application/javascript": [
       "\n",
       "            setTimeout(function() {\n",
       "                var nbb_cell_id = 34;\n",
       "                var nbb_unformatted_code = \"X_train.shape, y_train.shape, X_test.shape, y_test.shape\\ny_train.value_counts(), y_test.value_counts()\";\n",
       "                var nbb_formatted_code = \"X_train.shape, y_train.shape, X_test.shape, y_test.shape\\ny_train.value_counts(), y_test.value_counts()\";\n",
       "                var nbb_cells = Jupyter.notebook.get_cells();\n",
       "                for (var i = 0; i < nbb_cells.length; ++i) {\n",
       "                    if (nbb_cells[i].input_prompt_number == nbb_cell_id) {\n",
       "                        if (nbb_cells[i].get_text() == nbb_unformatted_code) {\n",
       "                             nbb_cells[i].set_text(nbb_formatted_code);\n",
       "                        }\n",
       "                        break;\n",
       "                    }\n",
       "                }\n",
       "            }, 500);\n",
       "            "
      ],
      "text/plain": [
       "<IPython.core.display.Javascript object>"
      ]
     },
     "metadata": {},
     "output_type": "display_data"
    }
   ],
   "source": [
    "X_train.shape, y_train.shape, X_test.shape, y_test.shape\n",
    "y_train.value_counts(), y_test.value_counts()"
   ]
  },
  {
   "cell_type": "code",
   "execution_count": 36,
   "id": "0a2606f8",
   "metadata": {},
   "outputs": [
    {
     "data": {
      "application/javascript": [
       "\n",
       "            setTimeout(function() {\n",
       "                var nbb_cell_id = 36;\n",
       "                var nbb_unformatted_code = \"num_preparing = Pipeline(\\n    steps=[(\\\"imputer\\\", KNNImputer(n_neighbors=5)), (\\\"scaler\\\", StandardScaler())]\\n)\\ncat_preparing = Pipeline(\\n    steps=[(\\\"encoder\\\", OneHotEncoder(handle_unknown=\\\"ignore\\\", sparse=False))]\\n)\\npreparing = ColumnTransformer(\\n    [(\\\"num\\\", num_preparing, num_features), (\\\"cat\\\", cat_preparing, cat_features)],\\n)\";\n",
       "                var nbb_formatted_code = \"num_preparing = Pipeline(\\n    steps=[(\\\"imputer\\\", KNNImputer(n_neighbors=5)), (\\\"scaler\\\", StandardScaler())]\\n)\\ncat_preparing = Pipeline(\\n    steps=[(\\\"encoder\\\", OneHotEncoder(handle_unknown=\\\"ignore\\\", sparse=False))]\\n)\\npreparing = ColumnTransformer(\\n    [(\\\"num\\\", num_preparing, num_features), (\\\"cat\\\", cat_preparing, cat_features)],\\n)\";\n",
       "                var nbb_cells = Jupyter.notebook.get_cells();\n",
       "                for (var i = 0; i < nbb_cells.length; ++i) {\n",
       "                    if (nbb_cells[i].input_prompt_number == nbb_cell_id) {\n",
       "                        if (nbb_cells[i].get_text() == nbb_unformatted_code) {\n",
       "                             nbb_cells[i].set_text(nbb_formatted_code);\n",
       "                        }\n",
       "                        break;\n",
       "                    }\n",
       "                }\n",
       "            }, 500);\n",
       "            "
      ],
      "text/plain": [
       "<IPython.core.display.Javascript object>"
      ]
     },
     "metadata": {},
     "output_type": "display_data"
    }
   ],
   "source": [
    "num_preparing = Pipeline(\n",
    "    steps=[(\"imputer\", KNNImputer(n_neighbors=5)), (\"scaler\", StandardScaler())]\n",
    ")\n",
    "cat_preparing = Pipeline(\n",
    "    steps=[(\"encoder\", OneHotEncoder(handle_unknown=\"ignore\", sparse=False))]\n",
    ")\n",
    "preparing = ColumnTransformer(\n",
    "    [(\"num\", num_preparing, num_features), (\"cat\", cat_preparing, cat_features)],\n",
    ")"
   ]
  },
  {
   "cell_type": "markdown",
   "id": "950bc8e5",
   "metadata": {},
   "source": [
    "* Making initial pipeline:"
   ]
  },
  {
   "cell_type": "code",
   "execution_count": 37,
   "id": "57e585db",
   "metadata": {},
   "outputs": [
    {
     "name": "stdout",
     "output_type": "stream",
     "text": [
      "Logistic Regression: \n",
      "               precision    recall  f1-score   support\n",
      "\n",
      "           0       0.99      0.74      0.84       972\n",
      "           1       0.14      0.80      0.23        50\n",
      "\n",
      "    accuracy                           0.74      1022\n",
      "   macro avg       0.56      0.77      0.54      1022\n",
      "weighted avg       0.94      0.74      0.81      1022\n",
      "\n"
     ]
    },
    {
     "data": {
      "application/javascript": [
       "\n",
       "            setTimeout(function() {\n",
       "                var nbb_cell_id = 37;\n",
       "                var nbb_unformatted_code = \"pipeline = Pipeline(\\n    [\\n        (\\\"preparing\\\", preparing),\\n        (\\n            \\\"classifier\\\",\\n            LogisticRegression(class_weight=\\\"balanced\\\"),\\n        ),\\n    ]\\n)\\npipeline.fit(X_train, y_train)\\ny_pred = pipeline.predict(X_test)\\nreport = classification_report(y_test, y_pred)\\nprint(\\\"Logistic Regression: \\\\n\\\", report)\";\n",
       "                var nbb_formatted_code = \"pipeline = Pipeline(\\n    [\\n        (\\\"preparing\\\", preparing),\\n        (\\n            \\\"classifier\\\",\\n            LogisticRegression(class_weight=\\\"balanced\\\"),\\n        ),\\n    ]\\n)\\npipeline.fit(X_train, y_train)\\ny_pred = pipeline.predict(X_test)\\nreport = classification_report(y_test, y_pred)\\nprint(\\\"Logistic Regression: \\\\n\\\", report)\";\n",
       "                var nbb_cells = Jupyter.notebook.get_cells();\n",
       "                for (var i = 0; i < nbb_cells.length; ++i) {\n",
       "                    if (nbb_cells[i].input_prompt_number == nbb_cell_id) {\n",
       "                        if (nbb_cells[i].get_text() == nbb_unformatted_code) {\n",
       "                             nbb_cells[i].set_text(nbb_formatted_code);\n",
       "                        }\n",
       "                        break;\n",
       "                    }\n",
       "                }\n",
       "            }, 500);\n",
       "            "
      ],
      "text/plain": [
       "<IPython.core.display.Javascript object>"
      ]
     },
     "metadata": {},
     "output_type": "display_data"
    }
   ],
   "source": [
    "pipeline = Pipeline(\n",
    "    [\n",
    "        (\"preparing\", preparing),\n",
    "        (\n",
    "            \"classifier\",\n",
    "            LogisticRegression(class_weight=\"balanced\"),\n",
    "        ),\n",
    "    ]\n",
    ")\n",
    "pipeline.fit(X_train, y_train)\n",
    "y_pred = pipeline.predict(X_test)\n",
    "report = classification_report(y_test, y_pred)\n",
    "print(\"Logistic Regression: \\n\", report)"
   ]
  },
  {
   "cell_type": "code",
   "execution_count": 38,
   "id": "c2c3d8ad",
   "metadata": {
    "scrolled": false
   },
   "outputs": [
    {
     "name": "stdout",
     "output_type": "stream",
     "text": [
      "Best parameters for RandomForestClassifier: {'classifier': RandomForestClassifier(class_weight='balanced', max_depth=15,\n",
      "                       max_features='log2', min_samples_leaf=10,\n",
      "                       min_samples_split=5, n_estimators=150, random_state=42), 'classifier__criterion': 'gini', 'classifier__max_depth': 15, 'classifier__max_features': 'log2', 'classifier__min_samples_leaf': 10, 'classifier__min_samples_split': 5, 'classifier__n_estimators': 150}\n",
      "Best Mean F1 Score: 0.259862296603832\n",
      "==================================================\n",
      "Best parameters for XGBClassifier: {'classifier': XGBClassifier(base_score=None, booster=None, callbacks=None,\n",
      "              colsample_bylevel=None, colsample_bynode=None,\n",
      "              colsample_bytree=None, early_stopping_rounds=None,\n",
      "              enable_categorical=False, eval_metric=None, feature_types=None,\n",
      "              gamma=None, gpu_id=None, grow_policy=None, importance_type=None,\n",
      "              interaction_constraints=None, learning_rate=None, max_bin=None,\n",
      "              max_cat_threshold=None, max_cat_to_onehot=None,\n",
      "              max_delta_step=None, max_depth=None, max_leaves=None,\n",
      "              min_child_weight=None, missing=nan, monotone_constraints=None,\n",
      "              n_estimators=100, n_jobs=None, num_parallel_tree=None,\n",
      "              predictor=None, random_state=42, ...), 'classifier__gamma': 0, 'classifier__learning_rate': 0.1, 'classifier__max_depth': 7, 'classifier__n_estimators': 50, 'classifier__scale_pos_weight': 20.54}\n",
      "Best Mean F1 Score: 0.24789175809378589\n",
      "==================================================\n",
      "Best parameters for LogisticRegression: {'classifier': LogisticRegression(class_weight='balanced'), 'classifier__C': 0.1, 'classifier__solver': 'liblinear'}\n",
      "Best Mean F1 Score: 0.23363500614946325\n",
      "==================================================\n",
      "Best parameters for SVC: {'classifier': SVC(class_weight='balanced'), 'classifier__C': 0.1, 'classifier__gamma': 'scale', 'classifier__kernel': 'poly'}\n",
      "Best Mean F1 Score: 0.23096907755706703\n",
      "==================================================\n",
      "Best parameters for DecisionTreeClassifier: {'classifier': DecisionTreeClassifier(class_weight='balanced', random_state=42), 'classifier__criterion': 'gini', 'classifier__max_depth': 5, 'classifier__max_features': None, 'classifier__min_samples_leaf': 0.1}\n",
      "Best Mean F1 Score: 0.2222257856174435\n",
      "==================================================\n",
      "Best parameters for KNeighborsClassifier: {'classifier': KNeighborsClassifier(n_jobs=-1), 'classifier__n_neighbors': 1, 'classifier__weights': 'uniform'}\n",
      "Best Mean F1 Score: 0.07143382932856616\n",
      "==================================================\n"
     ]
    },
    {
     "data": {
      "application/javascript": [
       "\n",
       "            setTimeout(function() {\n",
       "                var nbb_cell_id = 38;\n",
       "                var nbb_unformatted_code = \"param_grid = [\\n    {\\n        \\\"classifier\\\": [\\n            RandomForestClassifier(class_weight=\\\"balanced\\\", random_state=42)\\n        ],\\n        \\\"classifier__criterion\\\": [\\\"gini\\\", \\\"entropy\\\"],\\n        \\\"classifier__n_estimators\\\": [100, 150, 200, 300, 500, 1000],\\n        \\\"classifier__max_depth\\\": [None, 1, 3, 5, 8, 10, 15],\\n        \\\"classifier__max_features\\\": [\\\"log2\\\", \\\"sqrt\\\", \\\"auto\\\"],\\n        \\\"classifier__min_samples_split\\\": [5, 10],\\n        \\\"classifier__min_samples_leaf\\\": [5, 10],\\n    },\\n    {\\n        \\\"classifier\\\": [KNeighborsClassifier(n_jobs=-1)],\\n        \\\"classifier__n_neighbors\\\": [1, 3, 5, 7],\\n        \\\"classifier__weights\\\": [\\\"uniform\\\", \\\"distance\\\"],\\n    },\\n    {\\n        \\\"classifier\\\": [LogisticRegression(class_weight=\\\"balanced\\\")],\\n        \\\"classifier__solver\\\": [\\\"lbfgs\\\", \\\"liblinear\\\", \\\"sag\\\", \\\"saga\\\"],\\n        \\\"classifier__C\\\": [0.001, 0.01, 0.1, 1, 10],\\n    },\\n    {\\n        \\\"classifier\\\": [SVC(class_weight=\\\"balanced\\\")],\\n        \\\"classifier__C\\\": [0.1, 1, 10],\\n        \\\"classifier__kernel\\\": [\\\"linear\\\", \\\"rbf\\\", \\\"poly\\\"],\\n        \\\"classifier__gamma\\\": [\\\"scale\\\", \\\"auto\\\"],\\n    },\\n    {\\n        \\\"classifier\\\": [XGBClassifier(random_state=42)],\\n        \\\"classifier__n_estimators\\\": [50, 100, 200],\\n        \\\"classifier__learning_rate\\\": [0.01, 0.1, 0.2],\\n        \\\"classifier__max_depth\\\": [3, 5, 7, 10],\\n        \\\"classifier__gamma\\\": [0, 0.1, 0.2, 0.3],\\n        \\\"classifier__scale_pos_weight\\\": [1, round(len(y_train) / sum(y_train), 2)],\\n    },\\n    {\\n        \\\"classifier\\\": [\\n            DecisionTreeClassifier(class_weight=\\\"balanced\\\", random_state=42)\\n        ],\\n        \\\"classifier__max_depth\\\": [5, 10, 15, None],\\n        \\\"classifier__criterion\\\": [\\\"gini\\\", \\\"entropy\\\"],\\n        \\\"classifier__min_samples_leaf\\\": [1, 2, 4, 0.1, 0.2],\\n        \\\"classifier__max_features\\\": [\\\"auto\\\", \\\"sqrt\\\", \\\"log2\\\", None],\\n    },\\n]\\n\\ngrid = GridSearchCV(\\n    pipeline,\\n    param_grid=param_grid,\\n    cv=5,\\n    scoring=\\\"f1\\\",\\n    n_jobs=-1,\\n    return_train_score=True,\\n)\\n\\ngrid.fit(X_train, y_train)\\ny_pred = grid.predict(X_test)\\nbest_models = []\\nfor i, params in enumerate(grid.cv_results_[\\\"params\\\"]):\\n    model_name = params[\\\"classifier\\\"].__class__.__name__\\n    best_models.append((model_name, params, grid.cv_results_[\\\"mean_test_score\\\"][i]))\\nbest_models.sort(key=lambda x: x[2], reverse=True)\\n\\nseen_models = set()\\nfor model_name, best_params, mean_f1_score in best_models:\\n    if model_name not in seen_models:\\n        seen_models.add(model_name)\\n        print(f\\\"Best parameters for {model_name}: {best_params}\\\")\\n        print(f\\\"Best Mean F1 Score: {mean_f1_score}\\\")\\n        print(\\\"=\\\" * 50)\";\n",
       "                var nbb_formatted_code = \"param_grid = [\\n    {\\n        \\\"classifier\\\": [\\n            RandomForestClassifier(class_weight=\\\"balanced\\\", random_state=42)\\n        ],\\n        \\\"classifier__criterion\\\": [\\\"gini\\\", \\\"entropy\\\"],\\n        \\\"classifier__n_estimators\\\": [100, 150, 200, 300, 500, 1000],\\n        \\\"classifier__max_depth\\\": [None, 1, 3, 5, 8, 10, 15],\\n        \\\"classifier__max_features\\\": [\\\"log2\\\", \\\"sqrt\\\", \\\"auto\\\"],\\n        \\\"classifier__min_samples_split\\\": [5, 10],\\n        \\\"classifier__min_samples_leaf\\\": [5, 10],\\n    },\\n    {\\n        \\\"classifier\\\": [KNeighborsClassifier(n_jobs=-1)],\\n        \\\"classifier__n_neighbors\\\": [1, 3, 5, 7],\\n        \\\"classifier__weights\\\": [\\\"uniform\\\", \\\"distance\\\"],\\n    },\\n    {\\n        \\\"classifier\\\": [LogisticRegression(class_weight=\\\"balanced\\\")],\\n        \\\"classifier__solver\\\": [\\\"lbfgs\\\", \\\"liblinear\\\", \\\"sag\\\", \\\"saga\\\"],\\n        \\\"classifier__C\\\": [0.001, 0.01, 0.1, 1, 10],\\n    },\\n    {\\n        \\\"classifier\\\": [SVC(class_weight=\\\"balanced\\\")],\\n        \\\"classifier__C\\\": [0.1, 1, 10],\\n        \\\"classifier__kernel\\\": [\\\"linear\\\", \\\"rbf\\\", \\\"poly\\\"],\\n        \\\"classifier__gamma\\\": [\\\"scale\\\", \\\"auto\\\"],\\n    },\\n    {\\n        \\\"classifier\\\": [XGBClassifier(random_state=42)],\\n        \\\"classifier__n_estimators\\\": [50, 100, 200],\\n        \\\"classifier__learning_rate\\\": [0.01, 0.1, 0.2],\\n        \\\"classifier__max_depth\\\": [3, 5, 7, 10],\\n        \\\"classifier__gamma\\\": [0, 0.1, 0.2, 0.3],\\n        \\\"classifier__scale_pos_weight\\\": [1, round(len(y_train) / sum(y_train), 2)],\\n    },\\n    {\\n        \\\"classifier\\\": [\\n            DecisionTreeClassifier(class_weight=\\\"balanced\\\", random_state=42)\\n        ],\\n        \\\"classifier__max_depth\\\": [5, 10, 15, None],\\n        \\\"classifier__criterion\\\": [\\\"gini\\\", \\\"entropy\\\"],\\n        \\\"classifier__min_samples_leaf\\\": [1, 2, 4, 0.1, 0.2],\\n        \\\"classifier__max_features\\\": [\\\"auto\\\", \\\"sqrt\\\", \\\"log2\\\", None],\\n    },\\n]\\n\\ngrid = GridSearchCV(\\n    pipeline,\\n    param_grid=param_grid,\\n    cv=5,\\n    scoring=\\\"f1\\\",\\n    n_jobs=-1,\\n    return_train_score=True,\\n)\\n\\ngrid.fit(X_train, y_train)\\ny_pred = grid.predict(X_test)\\nbest_models = []\\nfor i, params in enumerate(grid.cv_results_[\\\"params\\\"]):\\n    model_name = params[\\\"classifier\\\"].__class__.__name__\\n    best_models.append((model_name, params, grid.cv_results_[\\\"mean_test_score\\\"][i]))\\nbest_models.sort(key=lambda x: x[2], reverse=True)\\n\\nseen_models = set()\\nfor model_name, best_params, mean_f1_score in best_models:\\n    if model_name not in seen_models:\\n        seen_models.add(model_name)\\n        print(f\\\"Best parameters for {model_name}: {best_params}\\\")\\n        print(f\\\"Best Mean F1 Score: {mean_f1_score}\\\")\\n        print(\\\"=\\\" * 50)\";\n",
       "                var nbb_cells = Jupyter.notebook.get_cells();\n",
       "                for (var i = 0; i < nbb_cells.length; ++i) {\n",
       "                    if (nbb_cells[i].input_prompt_number == nbb_cell_id) {\n",
       "                        if (nbb_cells[i].get_text() == nbb_unformatted_code) {\n",
       "                             nbb_cells[i].set_text(nbb_formatted_code);\n",
       "                        }\n",
       "                        break;\n",
       "                    }\n",
       "                }\n",
       "            }, 500);\n",
       "            "
      ],
      "text/plain": [
       "<IPython.core.display.Javascript object>"
      ]
     },
     "metadata": {},
     "output_type": "display_data"
    }
   ],
   "source": [
    "param_grid = [\n",
    "    {\n",
    "        \"classifier\": [\n",
    "            RandomForestClassifier(class_weight=\"balanced\", random_state=42)\n",
    "        ],\n",
    "        \"classifier__criterion\": [\"gini\", \"entropy\"],\n",
    "        \"classifier__n_estimators\": [100, 150, 200, 300, 500, 1000],\n",
    "        \"classifier__max_depth\": [None, 1, 3, 5, 8, 10, 15],\n",
    "        \"classifier__max_features\": [\"log2\", \"sqrt\", \"auto\"],\n",
    "        \"classifier__min_samples_split\": [5, 10],\n",
    "        \"classifier__min_samples_leaf\": [5, 10],\n",
    "    },\n",
    "    {\n",
    "        \"classifier\": [KNeighborsClassifier(n_jobs=-1)],\n",
    "        \"classifier__n_neighbors\": [1, 3, 5, 7],\n",
    "        \"classifier__weights\": [\"uniform\", \"distance\"],\n",
    "    },\n",
    "    {\n",
    "        \"classifier\": [LogisticRegression(class_weight=\"balanced\")],\n",
    "        \"classifier__solver\": [\"lbfgs\", \"liblinear\", \"sag\", \"saga\"],\n",
    "        \"classifier__C\": [0.001, 0.01, 0.1, 1, 10],\n",
    "    },\n",
    "    {\n",
    "        \"classifier\": [SVC(class_weight=\"balanced\")],\n",
    "        \"classifier__C\": [0.1, 1, 10],\n",
    "        \"classifier__kernel\": [\"linear\", \"rbf\", \"poly\"],\n",
    "        \"classifier__gamma\": [\"scale\", \"auto\"],\n",
    "    },\n",
    "    {\n",
    "        \"classifier\": [XGBClassifier(random_state=42)],\n",
    "        \"classifier__n_estimators\": [50, 100, 200],\n",
    "        \"classifier__learning_rate\": [0.01, 0.1, 0.2],\n",
    "        \"classifier__max_depth\": [3, 5, 7, 10],\n",
    "        \"classifier__gamma\": [0, 0.1, 0.2, 0.3],\n",
    "        \"classifier__scale_pos_weight\": [1, round(len(y_train) / sum(y_train), 2)],\n",
    "    },\n",
    "    {\n",
    "        \"classifier\": [\n",
    "            DecisionTreeClassifier(class_weight=\"balanced\", random_state=42)\n",
    "        ],\n",
    "        \"classifier__max_depth\": [5, 10, 15, None],\n",
    "        \"classifier__criterion\": [\"gini\", \"entropy\"],\n",
    "        \"classifier__min_samples_leaf\": [1, 2, 4, 0.1, 0.2],\n",
    "        \"classifier__max_features\": [\"auto\", \"sqrt\", \"log2\", None],\n",
    "    },\n",
    "]\n",
    "\n",
    "grid = GridSearchCV(\n",
    "    pipeline,\n",
    "    param_grid=param_grid,\n",
    "    cv=5,\n",
    "    scoring=\"f1\",\n",
    "    n_jobs=-1,\n",
    "    return_train_score=True,\n",
    ")\n",
    "\n",
    "grid.fit(X_train, y_train)\n",
    "y_pred = grid.predict(X_test)\n",
    "best_models = []\n",
    "for i, params in enumerate(grid.cv_results_[\"params\"]):\n",
    "    model_name = params[\"classifier\"].__class__.__name__\n",
    "    best_models.append((model_name, params, grid.cv_results_[\"mean_test_score\"][i]))\n",
    "best_models.sort(key=lambda x: x[2], reverse=True)\n",
    "\n",
    "seen_models = set()\n",
    "for model_name, best_params, mean_f1_score in best_models:\n",
    "    if model_name not in seen_models:\n",
    "        seen_models.add(model_name)\n",
    "        print(f\"Best parameters for {model_name}: {best_params}\")\n",
    "        print(f\"Best Mean F1 Score: {mean_f1_score}\")\n",
    "        print(\"=\" * 50)"
   ]
  },
  {
   "cell_type": "code",
   "execution_count": 39,
   "id": "abf6af7f",
   "metadata": {
    "scrolled": false
   },
   "outputs": [
    {
     "name": "stdout",
     "output_type": "stream",
     "text": [
      "Logistic Regression:\n",
      "               precision    recall  f1-score   support\n",
      "\n",
      "           0       0.99      0.74      0.85       972\n",
      "           1       0.14      0.80      0.23        50\n",
      "\n",
      "    accuracy                           0.74      1022\n",
      "   macro avg       0.56      0.77      0.54      1022\n",
      "weighted avg       0.94      0.74      0.82      1022\n",
      "\n",
      "==================================================\n",
      "Random Forest:\n",
      "               precision    recall  f1-score   support\n",
      "\n",
      "           0       0.98      0.86      0.91       972\n",
      "           1       0.18      0.60      0.28        50\n",
      "\n",
      "    accuracy                           0.85      1022\n",
      "   macro avg       0.58      0.73      0.60      1022\n",
      "weighted avg       0.94      0.85      0.88      1022\n",
      "\n",
      "==================================================\n",
      "XGBClassifier:\n",
      "               precision    recall  f1-score   support\n",
      "\n",
      "           0       0.98      0.83      0.90       972\n",
      "           1       0.16      0.62      0.25        50\n",
      "\n",
      "    accuracy                           0.82      1022\n",
      "   macro avg       0.57      0.72      0.57      1022\n",
      "weighted avg       0.94      0.82      0.86      1022\n",
      "\n",
      "==================================================\n",
      "Dtree:\n",
      "               precision    recall  f1-score   support\n",
      "\n",
      "           0       0.99      0.75      0.85       972\n",
      "           1       0.14      0.78      0.23        50\n",
      "\n",
      "    accuracy                           0.75      1022\n",
      "   macro avg       0.56      0.76      0.54      1022\n",
      "weighted avg       0.94      0.75      0.82      1022\n",
      "\n",
      "==================================================\n",
      "K-Neighbors:\n",
      "               precision    recall  f1-score   support\n",
      "\n",
      "           0       0.96      0.94      0.95       972\n",
      "           1       0.15      0.22      0.18        50\n",
      "\n",
      "    accuracy                           0.90      1022\n",
      "   macro avg       0.55      0.58      0.56      1022\n",
      "weighted avg       0.92      0.90      0.91      1022\n",
      "\n",
      "==================================================\n",
      "SVC:\n",
      "               precision    recall  f1-score   support\n",
      "\n",
      "           0       0.99      0.67      0.80       972\n",
      "           1       0.12      0.84      0.20        50\n",
      "\n",
      "    accuracy                           0.68      1022\n",
      "   macro avg       0.55      0.75      0.50      1022\n",
      "weighted avg       0.95      0.68      0.77      1022\n",
      "\n",
      "==================================================\n"
     ]
    },
    {
     "data": {
      "application/javascript": [
       "\n",
       "            setTimeout(function() {\n",
       "                var nbb_cell_id = 39;\n",
       "                var nbb_unformatted_code = \"classifiers = [\\n    (\\n        \\\"Logistic Regression\\\",\\n        LogisticRegression(class_weight=\\\"balanced\\\", C=0.001, solver=\\\"lbfgs\\\"),\\n    ),\\n    (\\n        \\\"Random Forest\\\",\\n        RandomForestClassifier(\\n            class_weight=\\\"balanced\\\",\\n            random_state=42,\\n            max_depth=None,\\n            max_features=\\\"log2\\\",\\n            min_samples_leaf=10,\\n            min_samples_split=5,\\n            criterion=\\\"entropy\\\",\\n            n_estimators=100,\\n            n_jobs=-1,\\n        ),\\n    ),\\n    (\\n        \\\"XGBClassifier\\\",\\n        XGBClassifier(\\n            gamma=0.1,\\n            learning_rate=0.1,\\n            max_depth=5,\\n            n_estimators=100,\\n            scale_pos_weight=21.86,\\n        ),\\n    ),\\n    (\\n        \\\"Dtree\\\",\\n        DecisionTreeClassifier(\\n            class_weight=\\\"balanced\\\",\\n            random_state=42,\\n            criterion=\\\"entropy\\\",\\n            max_depth=5,\\n            max_features=None,\\n            min_samples_leaf=0.1,\\n        ),\\n    ),\\n    (\\\"K-Neighbors\\\", KNeighborsClassifier(n_jobs=-1, n_neighbors=1, weights=\\\"uniform\\\")),\\n    (\\\"SVC\\\", SVC(class_weight=\\\"balanced\\\", C=1, gamma=\\\"auto\\\", kernel=\\\"rbf\\\")),\\n]\\n\\nfor name, classifier in classifiers:\\n    pipeline = Pipeline(\\n        [\\n            (\\\"preparing\\\", preparing),\\n            (\\\"select\\\", SelectKBest(k=6, score_func=f_regression)),\\n            (\\\"classifier\\\", classifier),\\n        ]\\n    )\\n    pipeline.fit(X_train, y_train)\\n    y_pred = pipeline.predict(X_test)\\n    report = classification_report(y_test, y_pred)\\n    print(name + \\\":\\\\n\\\", report)\\n    print(\\\"=\\\" * 50)\";\n",
       "                var nbb_formatted_code = \"classifiers = [\\n    (\\n        \\\"Logistic Regression\\\",\\n        LogisticRegression(class_weight=\\\"balanced\\\", C=0.001, solver=\\\"lbfgs\\\"),\\n    ),\\n    (\\n        \\\"Random Forest\\\",\\n        RandomForestClassifier(\\n            class_weight=\\\"balanced\\\",\\n            random_state=42,\\n            max_depth=None,\\n            max_features=\\\"log2\\\",\\n            min_samples_leaf=10,\\n            min_samples_split=5,\\n            criterion=\\\"entropy\\\",\\n            n_estimators=100,\\n            n_jobs=-1,\\n        ),\\n    ),\\n    (\\n        \\\"XGBClassifier\\\",\\n        XGBClassifier(\\n            gamma=0.1,\\n            learning_rate=0.1,\\n            max_depth=5,\\n            n_estimators=100,\\n            scale_pos_weight=21.86,\\n        ),\\n    ),\\n    (\\n        \\\"Dtree\\\",\\n        DecisionTreeClassifier(\\n            class_weight=\\\"balanced\\\",\\n            random_state=42,\\n            criterion=\\\"entropy\\\",\\n            max_depth=5,\\n            max_features=None,\\n            min_samples_leaf=0.1,\\n        ),\\n    ),\\n    (\\\"K-Neighbors\\\", KNeighborsClassifier(n_jobs=-1, n_neighbors=1, weights=\\\"uniform\\\")),\\n    (\\\"SVC\\\", SVC(class_weight=\\\"balanced\\\", C=1, gamma=\\\"auto\\\", kernel=\\\"rbf\\\")),\\n]\\n\\nfor name, classifier in classifiers:\\n    pipeline = Pipeline(\\n        [\\n            (\\\"preparing\\\", preparing),\\n            (\\\"select\\\", SelectKBest(k=6, score_func=f_regression)),\\n            (\\\"classifier\\\", classifier),\\n        ]\\n    )\\n    pipeline.fit(X_train, y_train)\\n    y_pred = pipeline.predict(X_test)\\n    report = classification_report(y_test, y_pred)\\n    print(name + \\\":\\\\n\\\", report)\\n    print(\\\"=\\\" * 50)\";\n",
       "                var nbb_cells = Jupyter.notebook.get_cells();\n",
       "                for (var i = 0; i < nbb_cells.length; ++i) {\n",
       "                    if (nbb_cells[i].input_prompt_number == nbb_cell_id) {\n",
       "                        if (nbb_cells[i].get_text() == nbb_unformatted_code) {\n",
       "                             nbb_cells[i].set_text(nbb_formatted_code);\n",
       "                        }\n",
       "                        break;\n",
       "                    }\n",
       "                }\n",
       "            }, 500);\n",
       "            "
      ],
      "text/plain": [
       "<IPython.core.display.Javascript object>"
      ]
     },
     "metadata": {},
     "output_type": "display_data"
    }
   ],
   "source": [
    "classifiers = [\n",
    "    (\n",
    "        \"Logistic Regression\",\n",
    "        LogisticRegression(class_weight=\"balanced\", C=0.001, solver=\"lbfgs\"),\n",
    "    ),\n",
    "    (\n",
    "        \"Random Forest\",\n",
    "        RandomForestClassifier(\n",
    "            class_weight=\"balanced\",\n",
    "            random_state=42,\n",
    "            max_depth=None,\n",
    "            max_features=\"log2\",\n",
    "            min_samples_leaf=10,\n",
    "            min_samples_split=5,\n",
    "            criterion=\"entropy\",\n",
    "            n_estimators=100,\n",
    "            n_jobs=-1,\n",
    "        ),\n",
    "    ),\n",
    "    (\n",
    "        \"XGBClassifier\",\n",
    "        XGBClassifier(\n",
    "            gamma=0.1,\n",
    "            learning_rate=0.1,\n",
    "            max_depth=5,\n",
    "            n_estimators=100,\n",
    "            scale_pos_weight=21.86,\n",
    "        ),\n",
    "    ),\n",
    "    (\n",
    "        \"Dtree\",\n",
    "        DecisionTreeClassifier(\n",
    "            class_weight=\"balanced\",\n",
    "            random_state=42,\n",
    "            criterion=\"entropy\",\n",
    "            max_depth=5,\n",
    "            max_features=None,\n",
    "            min_samples_leaf=0.1,\n",
    "        ),\n",
    "    ),\n",
    "    (\"K-Neighbors\", KNeighborsClassifier(n_jobs=-1, n_neighbors=1, weights=\"uniform\")),\n",
    "    (\"SVC\", SVC(class_weight=\"balanced\", C=1, gamma=\"auto\", kernel=\"rbf\")),\n",
    "]\n",
    "\n",
    "for name, classifier in classifiers:\n",
    "    pipeline = Pipeline(\n",
    "        [\n",
    "            (\"preparing\", preparing),\n",
    "            (\"select\", SelectKBest(k=6, score_func=f_regression)),\n",
    "            (\"classifier\", classifier),\n",
    "        ]\n",
    "    )\n",
    "    pipeline.fit(X_train, y_train)\n",
    "    y_pred = pipeline.predict(X_test)\n",
    "    report = classification_report(y_test, y_pred)\n",
    "    print(name + \":\\n\", report)\n",
    "    print(\"=\" * 50)"
   ]
  },
  {
   "cell_type": "markdown",
   "id": "62950958",
   "metadata": {},
   "source": [
    "* Based on individual performance and F1 score I esemble the final model:"
   ]
  },
  {
   "cell_type": "code",
   "execution_count": 48,
   "id": "8158af29",
   "metadata": {},
   "outputs": [
    {
     "name": "stdout",
     "output_type": "stream",
     "text": [
      "Features selected by SVC: ['gender', 'age', 'hypertension', 'heart_disease', 'avg_glucose_level', 'bmi']\n",
      "Ensemble Model Accuracy: 0.8776908023483366\n",
      "Ensemble Model Precision: 0.2222222222222222\n",
      "Ensemble Model F1 Score: 0.32432432432432434\n"
     ]
    },
    {
     "data": {
      "application/javascript": [
       "\n",
       "            setTimeout(function() {\n",
       "                var nbb_cell_id = 48;\n",
       "                var nbb_unformatted_code = \"classifiers = [\\n    (\\n        \\\"Dtree\\\",\\n        DecisionTreeClassifier(\\n            class_weight=\\\"balanced\\\",\\n            random_state=42,\\n            criterion=\\\"entropy\\\",\\n            max_depth=5,\\n            max_features=None,\\n            min_samples_leaf=0.1,\\n        ),\\n    ),\\n    (\\n        \\\"Random Forest\\\",\\n        RandomForestClassifier(\\n            class_weight=\\\"balanced\\\",\\n            random_state=42,\\n            max_depth=None,\\n            max_features=\\\"log2\\\",\\n            min_samples_leaf=10,\\n            min_samples_split=5,\\n            criterion=\\\"entropy\\\",\\n            n_estimators=100,\\n            n_jobs=-1,\\n        ),\\n    ),\\n    (\\n        \\\"XGBC\\\",\\n        XGBClassifier(\\n            gamma=0.1,\\n            learning_rate=0.1,\\n            max_depth=5,\\n            n_estimators=100,\\n            scale_pos_weight=21.86,\\n        ),\\n    ),\\n    (\\\"K-Neighbors\\\", KNeighborsClassifier(n_jobs=-1, n_neighbors=1, weights=\\\"uniform\\\")),\\n]\\n\\npipeline_list = [\\n    (\\n        name,\\n        Pipeline(\\n            [\\n                (\\\"preparing\\\", preparing),\\n                (\\\"select\\\", SelectKBest(k=8, score_func=f_regression)),\\n                (\\\"classifier\\\", classifier),\\n            ]\\n        ),\\n    )\\n    for name, classifier in classifiers\\n]\\n\\nclassifier = VotingClassifier(estimators=pipeline_list, voting=\\\"hard\\\")\\n\\nclassifier.fit(X_train, y_train)\\nselected_features_indices = pipeline.named_steps[\\\"select\\\"].get_support(indices=True)\\nselected_feature_names = [\\n    [\\n        \\\"gender\\\",\\n        \\\"age\\\",\\n        \\\"hypertension\\\",\\n        \\\"heart_disease\\\",\\n        \\\"ever_married\\\",\\n        \\\"work_type\\\",\\n        \\\"Residence_type\\\",\\n        \\\"avg_glucose_level\\\",\\n        \\\"bmi\\\",\\n        \\\"smoking_status\\\",\\n    ][i]\\n    for i in selected_features_indices\\n]\\nprint(f\\\"Features selected by {name}: {selected_feature_names}\\\")\\ny_pred = classifier.predict(X_test)\\nensemble_accuracy = accuracy_score(y_test, y_pred)\\nensemble_precision = precision_score(y_test, y_pred)\\nensemble_f1 = f1_score(y_test, y_pred)\\n\\nprint(\\\"Ensemble Model Accuracy:\\\", ensemble_accuracy)\\nprint(\\\"Ensemble Model Precision:\\\", ensemble_precision)\\nprint(\\\"Ensemble Model F1 Score:\\\", ensemble_f1)\";\n",
       "                var nbb_formatted_code = \"classifiers = [\\n    (\\n        \\\"Dtree\\\",\\n        DecisionTreeClassifier(\\n            class_weight=\\\"balanced\\\",\\n            random_state=42,\\n            criterion=\\\"entropy\\\",\\n            max_depth=5,\\n            max_features=None,\\n            min_samples_leaf=0.1,\\n        ),\\n    ),\\n    (\\n        \\\"Random Forest\\\",\\n        RandomForestClassifier(\\n            class_weight=\\\"balanced\\\",\\n            random_state=42,\\n            max_depth=None,\\n            max_features=\\\"log2\\\",\\n            min_samples_leaf=10,\\n            min_samples_split=5,\\n            criterion=\\\"entropy\\\",\\n            n_estimators=100,\\n            n_jobs=-1,\\n        ),\\n    ),\\n    (\\n        \\\"XGBC\\\",\\n        XGBClassifier(\\n            gamma=0.1,\\n            learning_rate=0.1,\\n            max_depth=5,\\n            n_estimators=100,\\n            scale_pos_weight=21.86,\\n        ),\\n    ),\\n    (\\\"K-Neighbors\\\", KNeighborsClassifier(n_jobs=-1, n_neighbors=1, weights=\\\"uniform\\\")),\\n]\\n\\npipeline_list = [\\n    (\\n        name,\\n        Pipeline(\\n            [\\n                (\\\"preparing\\\", preparing),\\n                (\\\"select\\\", SelectKBest(k=8, score_func=f_regression)),\\n                (\\\"classifier\\\", classifier),\\n            ]\\n        ),\\n    )\\n    for name, classifier in classifiers\\n]\\n\\nclassifier = VotingClassifier(estimators=pipeline_list, voting=\\\"hard\\\")\\n\\nclassifier.fit(X_train, y_train)\\nselected_features_indices = pipeline.named_steps[\\\"select\\\"].get_support(indices=True)\\nselected_feature_names = [\\n    [\\n        \\\"gender\\\",\\n        \\\"age\\\",\\n        \\\"hypertension\\\",\\n        \\\"heart_disease\\\",\\n        \\\"ever_married\\\",\\n        \\\"work_type\\\",\\n        \\\"Residence_type\\\",\\n        \\\"avg_glucose_level\\\",\\n        \\\"bmi\\\",\\n        \\\"smoking_status\\\",\\n    ][i]\\n    for i in selected_features_indices\\n]\\nprint(f\\\"Features selected by {name}: {selected_feature_names}\\\")\\ny_pred = classifier.predict(X_test)\\nensemble_accuracy = accuracy_score(y_test, y_pred)\\nensemble_precision = precision_score(y_test, y_pred)\\nensemble_f1 = f1_score(y_test, y_pred)\\n\\nprint(\\\"Ensemble Model Accuracy:\\\", ensemble_accuracy)\\nprint(\\\"Ensemble Model Precision:\\\", ensemble_precision)\\nprint(\\\"Ensemble Model F1 Score:\\\", ensemble_f1)\";\n",
       "                var nbb_cells = Jupyter.notebook.get_cells();\n",
       "                for (var i = 0; i < nbb_cells.length; ++i) {\n",
       "                    if (nbb_cells[i].input_prompt_number == nbb_cell_id) {\n",
       "                        if (nbb_cells[i].get_text() == nbb_unformatted_code) {\n",
       "                             nbb_cells[i].set_text(nbb_formatted_code);\n",
       "                        }\n",
       "                        break;\n",
       "                    }\n",
       "                }\n",
       "            }, 500);\n",
       "            "
      ],
      "text/plain": [
       "<IPython.core.display.Javascript object>"
      ]
     },
     "metadata": {},
     "output_type": "display_data"
    }
   ],
   "source": [
    "classifiers = [\n",
    "    (\n",
    "        \"Dtree\",\n",
    "        DecisionTreeClassifier(\n",
    "            class_weight=\"balanced\",\n",
    "            random_state=42,\n",
    "            criterion=\"entropy\",\n",
    "            max_depth=5,\n",
    "            max_features=None,\n",
    "            min_samples_leaf=0.1,\n",
    "        ),\n",
    "    ),\n",
    "    (\n",
    "        \"Random Forest\",\n",
    "        RandomForestClassifier(\n",
    "            class_weight=\"balanced\",\n",
    "            random_state=42,\n",
    "            max_depth=None,\n",
    "            max_features=\"log2\",\n",
    "            min_samples_leaf=10,\n",
    "            min_samples_split=5,\n",
    "            criterion=\"entropy\",\n",
    "            n_estimators=100,\n",
    "            n_jobs=-1,\n",
    "        ),\n",
    "    ),\n",
    "    (\n",
    "        \"XGBC\",\n",
    "        XGBClassifier(\n",
    "            gamma=0.1,\n",
    "            learning_rate=0.1,\n",
    "            max_depth=5,\n",
    "            n_estimators=100,\n",
    "            scale_pos_weight=21.86,\n",
    "        ),\n",
    "    ),\n",
    "    (\"K-Neighbors\", KNeighborsClassifier(n_jobs=-1, n_neighbors=1, weights=\"uniform\")),\n",
    "]\n",
    "\n",
    "pipeline_list = [\n",
    "    (\n",
    "        name,\n",
    "        Pipeline(\n",
    "            [\n",
    "                (\"preparing\", preparing),\n",
    "                (\"select\", SelectKBest(k=8, score_func=f_regression)),\n",
    "                (\"classifier\", classifier),\n",
    "            ]\n",
    "        ),\n",
    "    )\n",
    "    for name, classifier in classifiers\n",
    "]\n",
    "\n",
    "classifier = VotingClassifier(estimators=pipeline_list, voting=\"hard\")\n",
    "\n",
    "classifier.fit(X_train, y_train)\n",
    "selected_features_indices = pipeline.named_steps[\"select\"].get_support(indices=True)\n",
    "selected_feature_names = [\n",
    "    [\n",
    "        \"gender\",\n",
    "        \"age\",\n",
    "        \"hypertension\",\n",
    "        \"heart_disease\",\n",
    "        \"ever_married\",\n",
    "        \"work_type\",\n",
    "        \"Residence_type\",\n",
    "        \"avg_glucose_level\",\n",
    "        \"bmi\",\n",
    "        \"smoking_status\",\n",
    "    ][i]\n",
    "    for i in selected_features_indices\n",
    "]\n",
    "print(f\"Features selected by {name}: {selected_feature_names}\")\n",
    "y_pred = classifier.predict(X_test)\n",
    "ensemble_accuracy = accuracy_score(y_test, y_pred)\n",
    "ensemble_precision = precision_score(y_test, y_pred)\n",
    "ensemble_f1 = f1_score(y_test, y_pred)\n",
    "\n",
    "print(\"Ensemble Model Accuracy:\", ensemble_accuracy)\n",
    "print(\"Ensemble Model Precision:\", ensemble_precision)\n",
    "print(\"Ensemble Model F1 Score:\", ensemble_f1)"
   ]
  },
  {
   "cell_type": "markdown",
   "id": "74147a31",
   "metadata": {},
   "source": [
    "* Saving the trained model:"
   ]
  },
  {
   "cell_type": "code",
   "execution_count": 49,
   "id": "5a4884f0",
   "metadata": {},
   "outputs": [
    {
     "data": {
      "application/javascript": [
       "\n",
       "            setTimeout(function() {\n",
       "                var nbb_cell_id = 49;\n",
       "                var nbb_unformatted_code = \"import joblib\";\n",
       "                var nbb_formatted_code = \"import joblib\";\n",
       "                var nbb_cells = Jupyter.notebook.get_cells();\n",
       "                for (var i = 0; i < nbb_cells.length; ++i) {\n",
       "                    if (nbb_cells[i].input_prompt_number == nbb_cell_id) {\n",
       "                        if (nbb_cells[i].get_text() == nbb_unformatted_code) {\n",
       "                             nbb_cells[i].set_text(nbb_formatted_code);\n",
       "                        }\n",
       "                        break;\n",
       "                    }\n",
       "                }\n",
       "            }, 500);\n",
       "            "
      ],
      "text/plain": [
       "<IPython.core.display.Javascript object>"
      ]
     },
     "metadata": {},
     "output_type": "display_data"
    }
   ],
   "source": [
    "import joblib"
   ]
  },
  {
   "cell_type": "code",
   "execution_count": 50,
   "id": "c0d70377",
   "metadata": {},
   "outputs": [
    {
     "data": {
      "text/plain": [
       "['essembled_model.joblib']"
      ]
     },
     "execution_count": 50,
     "metadata": {},
     "output_type": "execute_result"
    },
    {
     "data": {
      "application/javascript": [
       "\n",
       "            setTimeout(function() {\n",
       "                var nbb_cell_id = 50;\n",
       "                var nbb_unformatted_code = \"joblib.dump(classifier, \\\"essembled_model.joblib\\\")\";\n",
       "                var nbb_formatted_code = \"joblib.dump(classifier, \\\"essembled_model.joblib\\\")\";\n",
       "                var nbb_cells = Jupyter.notebook.get_cells();\n",
       "                for (var i = 0; i < nbb_cells.length; ++i) {\n",
       "                    if (nbb_cells[i].input_prompt_number == nbb_cell_id) {\n",
       "                        if (nbb_cells[i].get_text() == nbb_unformatted_code) {\n",
       "                             nbb_cells[i].set_text(nbb_formatted_code);\n",
       "                        }\n",
       "                        break;\n",
       "                    }\n",
       "                }\n",
       "            }, 500);\n",
       "            "
      ],
      "text/plain": [
       "<IPython.core.display.Javascript object>"
      ]
     },
     "metadata": {},
     "output_type": "display_data"
    }
   ],
   "source": [
    "joblib.dump(classifier, \"essembled_model.joblib\")"
   ]
  },
  {
   "cell_type": "markdown",
   "id": "5eb8f758",
   "metadata": {},
   "source": [
    "### Conclusions:\n",
    "* This dataset is used to predict whether a patient is likely to get stroke based on the input parameters like gender, age, various diseases, and smoking status etc.;\n",
    "* Dataset has 5110 entries and 12 features;\n",
    "* The age range in dataset:  0.08 - 82.0 years;\n",
    "* In relation to stroke possibility, the biggest risk are people age from 71 to 90. But in general risk rises from 51 (19.3% were diagnosed positively):\n",
    "* In total there are 2994 females and 2115. Data shows that women are more likely to have a stroke (~57%);\n",
    "* Ever_married people tend to have stroke far more often then single people;\n",
    "* Most stroke sufferers work in the private sector and a higher proportion are women (30.5%);\n",
    "* Most patients live in urban areas (female group 30.9%);\n",
    "* The female group of stroke patients has never smoked (25.3%), the second group of patients admits to having smoked in the past, but almost 18% of both men and women are not known to smoke;\n",
    "* Both genders admit to having had no blood pressure problems;\n",
    "* Both genders admit to having no heart disease.\n",
    "\n",
    "Hypothesis: glucose level has impact on patients having stroke;\n",
    "Alternative: There is no meaningful difference in glucose level effect to get stroke\n",
    "In both the \"Stroke positive\" and the \"Stroke negative\" groups, the Shapiro-Wilk test shows that data in 'average_glucose_level' is not normally distributed\n",
    "Stroke patients:\n",
    "95.0% Confidence Interval for avg_glucose_level mean: [124.85, 140.24] mg/dL\n",
    "Healthy patients:\n",
    "95.0% Confidence Interval for avg_glucose_level mean: [103.56, 106.03] mg/dL\n",
    "\n",
    "Processing dataset for stroke prediction revealed that data is highly imbalanced therefore the used ensembled model showed overall accuracy of 88%, and f1 score 32% accuracy."
   ]
  },
  {
   "cell_type": "markdown",
   "id": "6bc035bc",
   "metadata": {},
   "source": [
    "### Improvements:\n",
    "Further study of machine learning and pipelining is needed, as well as improving the representation of correlation between attributes (categorical and numerical),\n",
    "study of model deployment and the development of additional applications to retrieve customer data."
   ]
  },
  {
   "cell_type": "code",
   "execution_count": null,
   "id": "84375d58",
   "metadata": {},
   "outputs": [],
   "source": []
  }
 ],
 "metadata": {
  "kernelspec": {
   "display_name": "Python 3 (ipykernel)",
   "language": "python",
   "name": "python3"
  },
  "language_info": {
   "codemirror_mode": {
    "name": "ipython",
    "version": 3
   },
   "file_extension": ".py",
   "mimetype": "text/x-python",
   "name": "python",
   "nbconvert_exporter": "python",
   "pygments_lexer": "ipython3",
   "version": "3.9.13"
  }
 },
 "nbformat": 4,
 "nbformat_minor": 5
}
